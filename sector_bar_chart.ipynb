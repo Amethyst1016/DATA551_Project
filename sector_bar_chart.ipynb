{
 "cells": [
  {
   "cell_type": "code",
   "execution_count": 50,
   "id": "d9d9b77f-92bf-4960-a1f5-51b315c3c122",
   "metadata": {},
   "outputs": [],
   "source": [
    "import pandas as pd\n",
    "import altair as alt"
   ]
  },
  {
   "cell_type": "code",
   "execution_count": 51,
   "id": "f54e4b52-87dd-48a6-967e-99d79dcbb4fc",
   "metadata": {},
   "outputs": [
    {
     "data": {
      "text/html": [
       "<div>\n",
       "<style scoped>\n",
       "    .dataframe tbody tr th:only-of-type {\n",
       "        vertical-align: middle;\n",
       "    }\n",
       "\n",
       "    .dataframe tbody tr th {\n",
       "        vertical-align: top;\n",
       "    }\n",
       "\n",
       "    .dataframe thead th {\n",
       "        text-align: right;\n",
       "    }\n",
       "</style>\n",
       "<table border=\"1\" class=\"dataframe\">\n",
       "  <thead>\n",
       "    <tr style=\"text-align: right;\">\n",
       "      <th></th>\n",
       "      <th>Date</th>\n",
       "      <th>Close</th>\n",
       "      <th>Volume</th>\n",
       "      <th>Symbol</th>\n",
       "      <th>GICS Sector</th>\n",
       "      <th>GICS Sub-Industry</th>\n",
       "    </tr>\n",
       "  </thead>\n",
       "  <tbody>\n",
       "    <tr>\n",
       "      <th>0</th>\n",
       "      <td>2010-01-04 00:00:00-05:00</td>\n",
       "      <td>83.019997</td>\n",
       "      <td>3043700</td>\n",
       "      <td>MMM</td>\n",
       "      <td>Industrials</td>\n",
       "      <td>Industrial Conglomerates</td>\n",
       "    </tr>\n",
       "    <tr>\n",
       "      <th>1</th>\n",
       "      <td>2010-01-05 00:00:00-05:00</td>\n",
       "      <td>82.500000</td>\n",
       "      <td>2847000</td>\n",
       "      <td>MMM</td>\n",
       "      <td>Industrials</td>\n",
       "      <td>Industrial Conglomerates</td>\n",
       "    </tr>\n",
       "    <tr>\n",
       "      <th>2</th>\n",
       "      <td>2010-01-06 00:00:00-05:00</td>\n",
       "      <td>83.669998</td>\n",
       "      <td>5268500</td>\n",
       "      <td>MMM</td>\n",
       "      <td>Industrials</td>\n",
       "      <td>Industrial Conglomerates</td>\n",
       "    </tr>\n",
       "    <tr>\n",
       "      <th>3</th>\n",
       "      <td>2010-01-07 00:00:00-05:00</td>\n",
       "      <td>83.730003</td>\n",
       "      <td>4470100</td>\n",
       "      <td>MMM</td>\n",
       "      <td>Industrials</td>\n",
       "      <td>Industrial Conglomerates</td>\n",
       "    </tr>\n",
       "    <tr>\n",
       "      <th>4</th>\n",
       "      <td>2010-01-08 00:00:00-05:00</td>\n",
       "      <td>84.320000</td>\n",
       "      <td>3405800</td>\n",
       "      <td>MMM</td>\n",
       "      <td>Industrials</td>\n",
       "      <td>Industrial Conglomerates</td>\n",
       "    </tr>\n",
       "  </tbody>\n",
       "</table>\n",
       "</div>"
      ],
      "text/plain": [
       "                        Date      Close   Volume Symbol  GICS Sector  \\\n",
       "0  2010-01-04 00:00:00-05:00  83.019997  3043700    MMM  Industrials   \n",
       "1  2010-01-05 00:00:00-05:00  82.500000  2847000    MMM  Industrials   \n",
       "2  2010-01-06 00:00:00-05:00  83.669998  5268500    MMM  Industrials   \n",
       "3  2010-01-07 00:00:00-05:00  83.730003  4470100    MMM  Industrials   \n",
       "4  2010-01-08 00:00:00-05:00  84.320000  3405800    MMM  Industrials   \n",
       "\n",
       "          GICS Sub-Industry  \n",
       "0  Industrial Conglomerates  \n",
       "1  Industrial Conglomerates  \n",
       "2  Industrial Conglomerates  \n",
       "3  Industrial Conglomerates  \n",
       "4  Industrial Conglomerates  "
      ]
     },
     "execution_count": 51,
     "metadata": {},
     "output_type": "execute_result"
    }
   ],
   "source": [
    "df = pd.read_csv('data/SP500_merged.csv')\n",
    "df = df[df['Symbol'] != 'GEHC']\n",
    "# GEHC only have 44 values,if want to know the data for past 1 year, for each Symbol at least have 360 values\n",
    "df.head()"
   ]
  },
  {
   "cell_type": "code",
   "execution_count": 52,
   "id": "028c55f4-b28a-4392-875e-327e5886ef01",
   "metadata": {},
   "outputs": [],
   "source": [
    "sector_name=df['GICS Sector'].unique().tolist()\n",
    "sector_symbol = []\n",
    "for i in sector_name:\n",
    "    sector_symbol.append(df[df['GICS Sector']==i]['Symbol'].unique().tolist())"
   ]
  },
  {
   "cell_type": "code",
   "execution_count": 53,
   "id": "d430e552-fabd-490d-b283-ae1d70df84cb",
   "metadata": {},
   "outputs": [],
   "source": [
    "def growth_rate (duration):\n",
    "    grow_rate_mean=[]\n",
    "    for i in range(len(sector_name)):\n",
    "        grow_rate=[]\n",
    "        for n in sector_symbol[i]:\n",
    "            dff=df[df['GICS Sector']==sector_name[i]][df['Symbol']==n]\n",
    "            grow_rate.append(dff.iloc[len(dff)-1,1]/dff.iloc[len(dff)-1-duration,1]-1)\n",
    "        grow_rate_mean.append(sum(grow_rate)/len(grow_rate)) \n",
    "    sector_growth_rate=pd.DataFrame({'sector': sector_name, 'growth_rate': grow_rate_mean})\n",
    "    return sector_growth_rate"
   ]
  },
  {
   "cell_type": "code",
   "execution_count": 54,
   "id": "18139ebe-6658-4f2c-b769-4b1278de0219",
   "metadata": {},
   "outputs": [],
   "source": [
    "def bar_chart(duration):\n",
    "    chart = alt.Chart(growth_rate(duration)).mark_bar().encode(\n",
    "       x=alt.X('sector', sort='-y'),\n",
    "       y='growth_rate',\n",
    "       color=alt.condition(\n",
    "          alt.datum.growth_rate > 0,  # condition for positive values\n",
    "          alt.value('green'),   # color for positive values\n",
    "          alt.value('red')      # color for negative values\n",
    "       )\n",
    "     )\n",
    "    return chart"
   ]
  },
  {
   "cell_type": "code",
   "execution_count": 6,
   "id": "8db4f2e7-f5ee-45c2-9366-db9cb8e29ad9",
   "metadata": {},
   "outputs": [
    {
     "name": "stderr",
     "output_type": "stream",
     "text": [
      "/var/folders/yw/73qbgz6d7nn4vhww_7_1sy_w0000gn/T/ipykernel_10037/349219200.py:6: UserWarning: Boolean Series key will be reindexed to match DataFrame index.\n",
      "  dff=df[df['GICS Sector']==sector_name[i]][df['Symbol']==n]\n"
     ]
    },
    {
     "data": {
      "text/html": [
       "\n",
       "<div id=\"altair-viz-f70445e48b2749819dfb9a509dc0b30a\"></div>\n",
       "<script type=\"text/javascript\">\n",
       "  var VEGA_DEBUG = (typeof VEGA_DEBUG == \"undefined\") ? {} : VEGA_DEBUG;\n",
       "  (function(spec, embedOpt){\n",
       "    let outputDiv = document.currentScript.previousElementSibling;\n",
       "    if (outputDiv.id !== \"altair-viz-f70445e48b2749819dfb9a509dc0b30a\") {\n",
       "      outputDiv = document.getElementById(\"altair-viz-f70445e48b2749819dfb9a509dc0b30a\");\n",
       "    }\n",
       "    const paths = {\n",
       "      \"vega\": \"https://cdn.jsdelivr.net/npm//vega@5?noext\",\n",
       "      \"vega-lib\": \"https://cdn.jsdelivr.net/npm//vega-lib?noext\",\n",
       "      \"vega-lite\": \"https://cdn.jsdelivr.net/npm//vega-lite@4.17.0?noext\",\n",
       "      \"vega-embed\": \"https://cdn.jsdelivr.net/npm//vega-embed@6?noext\",\n",
       "    };\n",
       "\n",
       "    function maybeLoadScript(lib, version) {\n",
       "      var key = `${lib.replace(\"-\", \"\")}_version`;\n",
       "      return (VEGA_DEBUG[key] == version) ?\n",
       "        Promise.resolve(paths[lib]) :\n",
       "        new Promise(function(resolve, reject) {\n",
       "          var s = document.createElement('script');\n",
       "          document.getElementsByTagName(\"head\")[0].appendChild(s);\n",
       "          s.async = true;\n",
       "          s.onload = () => {\n",
       "            VEGA_DEBUG[key] = version;\n",
       "            return resolve(paths[lib]);\n",
       "          };\n",
       "          s.onerror = () => reject(`Error loading script: ${paths[lib]}`);\n",
       "          s.src = paths[lib];\n",
       "        });\n",
       "    }\n",
       "\n",
       "    function showError(err) {\n",
       "      outputDiv.innerHTML = `<div class=\"error\" style=\"color:red;\">${err}</div>`;\n",
       "      throw err;\n",
       "    }\n",
       "\n",
       "    function displayChart(vegaEmbed) {\n",
       "      vegaEmbed(outputDiv, spec, embedOpt)\n",
       "        .catch(err => showError(`Javascript Error: ${err.message}<br>This usually means there's a typo in your chart specification. See the javascript console for the full traceback.`));\n",
       "    }\n",
       "\n",
       "    if(typeof define === \"function\" && define.amd) {\n",
       "      requirejs.config({paths});\n",
       "      require([\"vega-embed\"], displayChart, err => showError(`Error loading script: ${err.message}`));\n",
       "    } else {\n",
       "      maybeLoadScript(\"vega\", \"5\")\n",
       "        .then(() => maybeLoadScript(\"vega-lite\", \"4.17.0\"))\n",
       "        .then(() => maybeLoadScript(\"vega-embed\", \"6\"))\n",
       "        .catch(showError)\n",
       "        .then(() => displayChart(vegaEmbed));\n",
       "    }\n",
       "  })({\"config\": {\"view\": {\"continuousWidth\": 400, \"continuousHeight\": 300}}, \"data\": {\"name\": \"data-6fd58d45ce524d1c6566ceefa0bfcaaf\"}, \"mark\": \"bar\", \"encoding\": {\"color\": {\"condition\": {\"value\": \"green\", \"test\": \"(datum.growth_rate > 0)\"}, \"value\": \"red\"}, \"x\": {\"field\": \"sector\", \"sort\": \"-y\", \"type\": \"nominal\"}, \"y\": {\"field\": \"growth_rate\", \"type\": \"quantitative\"}}, \"$schema\": \"https://vega.github.io/schema/vega-lite/v4.17.0.json\", \"datasets\": {\"data-6fd58d45ce524d1c6566ceefa0bfcaaf\": [{\"sector\": \"Industrials\", \"growth_rate\": 0.005552403059529949}, {\"sector\": \"Health Care\", \"growth_rate\": -0.008073567968680808}, {\"sector\": \"Information Technology\", \"growth_rate\": -0.00879929150405176}, {\"sector\": \"Communication Services\", \"growth_rate\": -0.012313813100747958}, {\"sector\": \"Consumer Staples\", \"growth_rate\": 0.013915899187437422}, {\"sector\": \"Consumer Discretionary\", \"growth_rate\": 0.0024065376509621594}, {\"sector\": \"Utilities\", \"growth_rate\": 0.015785048581901877}, {\"sector\": \"Financials\", \"growth_rate\": -0.014439739213532742}, {\"sector\": \"Materials\", \"growth_rate\": -0.015310249965689278}, {\"sector\": \"Real Estate\", \"growth_rate\": -0.019897478900139685}, {\"sector\": \"Energy\", \"growth_rate\": -0.04222847332520763}]}}, {\"mode\": \"vega-lite\"});\n",
       "</script>"
      ],
      "text/plain": [
       "alt.Chart(...)"
      ]
     },
     "execution_count": 6,
     "metadata": {},
     "output_type": "execute_result"
    }
   ],
   "source": [
    "bar_chart(7)"
   ]
  },
  {
   "cell_type": "code",
   "execution_count": 7,
   "id": "4483888e-b2ea-457b-bdc7-124e9ab7cb00",
   "metadata": {},
   "outputs": [
    {
     "name": "stderr",
     "output_type": "stream",
     "text": [
      "/var/folders/yw/73qbgz6d7nn4vhww_7_1sy_w0000gn/T/ipykernel_10037/349219200.py:6: UserWarning: Boolean Series key will be reindexed to match DataFrame index.\n",
      "  dff=df[df['GICS Sector']==sector_name[i]][df['Symbol']==n]\n"
     ]
    },
    {
     "data": {
      "text/html": [
       "\n",
       "<div id=\"altair-viz-d97ef09f8c58456b8b9e2340eb07012b\"></div>\n",
       "<script type=\"text/javascript\">\n",
       "  var VEGA_DEBUG = (typeof VEGA_DEBUG == \"undefined\") ? {} : VEGA_DEBUG;\n",
       "  (function(spec, embedOpt){\n",
       "    let outputDiv = document.currentScript.previousElementSibling;\n",
       "    if (outputDiv.id !== \"altair-viz-d97ef09f8c58456b8b9e2340eb07012b\") {\n",
       "      outputDiv = document.getElementById(\"altair-viz-d97ef09f8c58456b8b9e2340eb07012b\");\n",
       "    }\n",
       "    const paths = {\n",
       "      \"vega\": \"https://cdn.jsdelivr.net/npm//vega@5?noext\",\n",
       "      \"vega-lib\": \"https://cdn.jsdelivr.net/npm//vega-lib?noext\",\n",
       "      \"vega-lite\": \"https://cdn.jsdelivr.net/npm//vega-lite@4.17.0?noext\",\n",
       "      \"vega-embed\": \"https://cdn.jsdelivr.net/npm//vega-embed@6?noext\",\n",
       "    };\n",
       "\n",
       "    function maybeLoadScript(lib, version) {\n",
       "      var key = `${lib.replace(\"-\", \"\")}_version`;\n",
       "      return (VEGA_DEBUG[key] == version) ?\n",
       "        Promise.resolve(paths[lib]) :\n",
       "        new Promise(function(resolve, reject) {\n",
       "          var s = document.createElement('script');\n",
       "          document.getElementsByTagName(\"head\")[0].appendChild(s);\n",
       "          s.async = true;\n",
       "          s.onload = () => {\n",
       "            VEGA_DEBUG[key] = version;\n",
       "            return resolve(paths[lib]);\n",
       "          };\n",
       "          s.onerror = () => reject(`Error loading script: ${paths[lib]}`);\n",
       "          s.src = paths[lib];\n",
       "        });\n",
       "    }\n",
       "\n",
       "    function showError(err) {\n",
       "      outputDiv.innerHTML = `<div class=\"error\" style=\"color:red;\">${err}</div>`;\n",
       "      throw err;\n",
       "    }\n",
       "\n",
       "    function displayChart(vegaEmbed) {\n",
       "      vegaEmbed(outputDiv, spec, embedOpt)\n",
       "        .catch(err => showError(`Javascript Error: ${err.message}<br>This usually means there's a typo in your chart specification. See the javascript console for the full traceback.`));\n",
       "    }\n",
       "\n",
       "    if(typeof define === \"function\" && define.amd) {\n",
       "      requirejs.config({paths});\n",
       "      require([\"vega-embed\"], displayChart, err => showError(`Error loading script: ${err.message}`));\n",
       "    } else {\n",
       "      maybeLoadScript(\"vega\", \"5\")\n",
       "        .then(() => maybeLoadScript(\"vega-lite\", \"4.17.0\"))\n",
       "        .then(() => maybeLoadScript(\"vega-embed\", \"6\"))\n",
       "        .catch(showError)\n",
       "        .then(() => displayChart(vegaEmbed));\n",
       "    }\n",
       "  })({\"config\": {\"view\": {\"continuousWidth\": 400, \"continuousHeight\": 300}}, \"data\": {\"name\": \"data-d238258be3f3c48e85e2ac6455bc1e93\"}, \"mark\": \"bar\", \"encoding\": {\"color\": {\"condition\": {\"value\": \"green\", \"test\": \"(datum.growth_rate > 0)\"}, \"value\": \"red\"}, \"x\": {\"field\": \"sector\", \"sort\": \"-y\", \"type\": \"nominal\"}, \"y\": {\"field\": \"growth_rate\", \"type\": \"quantitative\"}}, \"$schema\": \"https://vega.github.io/schema/vega-lite/v4.17.0.json\", \"datasets\": {\"data-d238258be3f3c48e85e2ac6455bc1e93\": [{\"sector\": \"Industrials\", \"growth_rate\": 0.07859070145750466}, {\"sector\": \"Health Care\", \"growth_rate\": 0.026920196128874252}, {\"sector\": \"Information Technology\", \"growth_rate\": 0.12055382502603751}, {\"sector\": \"Communication Services\", \"growth_rate\": 0.07851821738173459}, {\"sector\": \"Consumer Staples\", \"growth_rate\": -0.0036403342325167024}, {\"sector\": \"Consumer Discretionary\", \"growth_rate\": 0.10930194352522574}, {\"sector\": \"Utilities\", \"growth_rate\": -0.0008268621862489518}, {\"sector\": \"Financials\", \"growth_rate\": 0.06923924735529137}, {\"sector\": \"Materials\", \"growth_rate\": 0.05157380382924766}, {\"sector\": \"Real Estate\", \"growth_rate\": 0.08602869038808934}, {\"sector\": \"Energy\", \"growth_rate\": -0.02145166660667756}]}}, {\"mode\": \"vega-lite\"});\n",
       "</script>"
      ],
      "text/plain": [
       "alt.Chart(...)"
      ]
     },
     "execution_count": 7,
     "metadata": {},
     "output_type": "execute_result"
    }
   ],
   "source": [
    "bar_chart(30)"
   ]
  },
  {
   "cell_type": "code",
   "execution_count": 55,
   "id": "51a3f7f0-487d-432a-a08c-84f13190cf5c",
   "metadata": {},
   "outputs": [
    {
     "name": "stderr",
     "output_type": "stream",
     "text": [
      "/var/folders/yw/73qbgz6d7nn4vhww_7_1sy_w0000gn/T/ipykernel_10037/349219200.py:6: UserWarning: Boolean Series key will be reindexed to match DataFrame index.\n",
      "  dff=df[df['GICS Sector']==sector_name[i]][df['Symbol']==n]\n"
     ]
    },
    {
     "data": {
      "text/html": [
       "\n",
       "<div id=\"altair-viz-6f6830ec07b24ead9ac66551c6feada4\"></div>\n",
       "<script type=\"text/javascript\">\n",
       "  var VEGA_DEBUG = (typeof VEGA_DEBUG == \"undefined\") ? {} : VEGA_DEBUG;\n",
       "  (function(spec, embedOpt){\n",
       "    let outputDiv = document.currentScript.previousElementSibling;\n",
       "    if (outputDiv.id !== \"altair-viz-6f6830ec07b24ead9ac66551c6feada4\") {\n",
       "      outputDiv = document.getElementById(\"altair-viz-6f6830ec07b24ead9ac66551c6feada4\");\n",
       "    }\n",
       "    const paths = {\n",
       "      \"vega\": \"https://cdn.jsdelivr.net/npm//vega@5?noext\",\n",
       "      \"vega-lib\": \"https://cdn.jsdelivr.net/npm//vega-lib?noext\",\n",
       "      \"vega-lite\": \"https://cdn.jsdelivr.net/npm//vega-lite@4.17.0?noext\",\n",
       "      \"vega-embed\": \"https://cdn.jsdelivr.net/npm//vega-embed@6?noext\",\n",
       "    };\n",
       "\n",
       "    function maybeLoadScript(lib, version) {\n",
       "      var key = `${lib.replace(\"-\", \"\")}_version`;\n",
       "      return (VEGA_DEBUG[key] == version) ?\n",
       "        Promise.resolve(paths[lib]) :\n",
       "        new Promise(function(resolve, reject) {\n",
       "          var s = document.createElement('script');\n",
       "          document.getElementsByTagName(\"head\")[0].appendChild(s);\n",
       "          s.async = true;\n",
       "          s.onload = () => {\n",
       "            VEGA_DEBUG[key] = version;\n",
       "            return resolve(paths[lib]);\n",
       "          };\n",
       "          s.onerror = () => reject(`Error loading script: ${paths[lib]}`);\n",
       "          s.src = paths[lib];\n",
       "        });\n",
       "    }\n",
       "\n",
       "    function showError(err) {\n",
       "      outputDiv.innerHTML = `<div class=\"error\" style=\"color:red;\">${err}</div>`;\n",
       "      throw err;\n",
       "    }\n",
       "\n",
       "    function displayChart(vegaEmbed) {\n",
       "      vegaEmbed(outputDiv, spec, embedOpt)\n",
       "        .catch(err => showError(`Javascript Error: ${err.message}<br>This usually means there's a typo in your chart specification. See the javascript console for the full traceback.`));\n",
       "    }\n",
       "\n",
       "    if(typeof define === \"function\" && define.amd) {\n",
       "      requirejs.config({paths});\n",
       "      require([\"vega-embed\"], displayChart, err => showError(`Error loading script: ${err.message}`));\n",
       "    } else {\n",
       "      maybeLoadScript(\"vega\", \"5\")\n",
       "        .then(() => maybeLoadScript(\"vega-lite\", \"4.17.0\"))\n",
       "        .then(() => maybeLoadScript(\"vega-embed\", \"6\"))\n",
       "        .catch(showError)\n",
       "        .then(() => displayChart(vegaEmbed));\n",
       "    }\n",
       "  })({\"config\": {\"view\": {\"continuousWidth\": 400, \"continuousHeight\": 300}}, \"data\": {\"name\": \"data-7b4fe3b080abc629d0479274f070cf06\"}, \"mark\": \"bar\", \"encoding\": {\"color\": {\"condition\": {\"value\": \"green\", \"test\": \"(datum.growth_rate > 0)\"}, \"value\": \"red\"}, \"x\": {\"field\": \"sector\", \"sort\": \"-y\", \"type\": \"nominal\"}, \"y\": {\"field\": \"growth_rate\", \"type\": \"quantitative\"}}, \"$schema\": \"https://vega.github.io/schema/vega-lite/v4.17.0.json\", \"datasets\": {\"data-7b4fe3b080abc629d0479274f070cf06\": [{\"sector\": \"Industrials\", \"growth_rate\": 0.20758472492085786}, {\"sector\": \"Health Care\", \"growth_rate\": 0.14736716006014483}, {\"sector\": \"Information Technology\", \"growth_rate\": 0.19180414931611706}, {\"sector\": \"Communication Services\", \"growth_rate\": 0.1422749319895836}, {\"sector\": \"Consumer Staples\", \"growth_rate\": 0.09125518453719769}, {\"sector\": \"Consumer Discretionary\", \"growth_rate\": 0.24379464833391737}, {\"sector\": \"Utilities\", \"growth_rate\": 0.08952299147306769}, {\"sector\": \"Financials\", \"growth_rate\": 0.16012813025642775}, {\"sector\": \"Materials\", \"growth_rate\": 0.1719768067942592}, {\"sector\": \"Real Estate\", \"growth_rate\": 0.15492774883728885}, {\"sector\": \"Energy\", \"growth_rate\": 0.03461125361941414}]}}, {\"mode\": \"vega-lite\"});\n",
       "</script>"
      ],
      "text/plain": [
       "alt.Chart(...)"
      ]
     },
     "execution_count": 55,
     "metadata": {},
     "output_type": "execute_result"
    }
   ],
   "source": [
    "bar_chart(90)"
   ]
  },
  {
   "cell_type": "code",
   "execution_count": 56,
   "id": "426a7937-b3e9-4fe4-87a8-d8a23285f216",
   "metadata": {},
   "outputs": [
    {
     "name": "stderr",
     "output_type": "stream",
     "text": [
      "/var/folders/yw/73qbgz6d7nn4vhww_7_1sy_w0000gn/T/ipykernel_10037/349219200.py:6: UserWarning: Boolean Series key will be reindexed to match DataFrame index.\n",
      "  dff=df[df['GICS Sector']==sector_name[i]][df['Symbol']==n]\n"
     ]
    },
    {
     "data": {
      "text/html": [
       "\n",
       "<div id=\"altair-viz-dd54bd452ad54babbd0527064bfef156\"></div>\n",
       "<script type=\"text/javascript\">\n",
       "  var VEGA_DEBUG = (typeof VEGA_DEBUG == \"undefined\") ? {} : VEGA_DEBUG;\n",
       "  (function(spec, embedOpt){\n",
       "    let outputDiv = document.currentScript.previousElementSibling;\n",
       "    if (outputDiv.id !== \"altair-viz-dd54bd452ad54babbd0527064bfef156\") {\n",
       "      outputDiv = document.getElementById(\"altair-viz-dd54bd452ad54babbd0527064bfef156\");\n",
       "    }\n",
       "    const paths = {\n",
       "      \"vega\": \"https://cdn.jsdelivr.net/npm//vega@5?noext\",\n",
       "      \"vega-lib\": \"https://cdn.jsdelivr.net/npm//vega-lib?noext\",\n",
       "      \"vega-lite\": \"https://cdn.jsdelivr.net/npm//vega-lite@4.17.0?noext\",\n",
       "      \"vega-embed\": \"https://cdn.jsdelivr.net/npm//vega-embed@6?noext\",\n",
       "    };\n",
       "\n",
       "    function maybeLoadScript(lib, version) {\n",
       "      var key = `${lib.replace(\"-\", \"\")}_version`;\n",
       "      return (VEGA_DEBUG[key] == version) ?\n",
       "        Promise.resolve(paths[lib]) :\n",
       "        new Promise(function(resolve, reject) {\n",
       "          var s = document.createElement('script');\n",
       "          document.getElementsByTagName(\"head\")[0].appendChild(s);\n",
       "          s.async = true;\n",
       "          s.onload = () => {\n",
       "            VEGA_DEBUG[key] = version;\n",
       "            return resolve(paths[lib]);\n",
       "          };\n",
       "          s.onerror = () => reject(`Error loading script: ${paths[lib]}`);\n",
       "          s.src = paths[lib];\n",
       "        });\n",
       "    }\n",
       "\n",
       "    function showError(err) {\n",
       "      outputDiv.innerHTML = `<div class=\"error\" style=\"color:red;\">${err}</div>`;\n",
       "      throw err;\n",
       "    }\n",
       "\n",
       "    function displayChart(vegaEmbed) {\n",
       "      vegaEmbed(outputDiv, spec, embedOpt)\n",
       "        .catch(err => showError(`Javascript Error: ${err.message}<br>This usually means there's a typo in your chart specification. See the javascript console for the full traceback.`));\n",
       "    }\n",
       "\n",
       "    if(typeof define === \"function\" && define.amd) {\n",
       "      requirejs.config({paths});\n",
       "      require([\"vega-embed\"], displayChart, err => showError(`Error loading script: ${err.message}`));\n",
       "    } else {\n",
       "      maybeLoadScript(\"vega\", \"5\")\n",
       "        .then(() => maybeLoadScript(\"vega-lite\", \"4.17.0\"))\n",
       "        .then(() => maybeLoadScript(\"vega-embed\", \"6\"))\n",
       "        .catch(showError)\n",
       "        .then(() => displayChart(vegaEmbed));\n",
       "    }\n",
       "  })({\"config\": {\"view\": {\"continuousWidth\": 400, \"continuousHeight\": 300}}, \"data\": {\"name\": \"data-51cdfbbb7ab707e6c5c69e0568626517\"}, \"mark\": \"bar\", \"encoding\": {\"color\": {\"condition\": {\"value\": \"green\", \"test\": \"(datum.growth_rate > 0)\"}, \"value\": \"red\"}, \"x\": {\"field\": \"sector\", \"sort\": \"-y\", \"type\": \"nominal\"}, \"y\": {\"field\": \"growth_rate\", \"type\": \"quantitative\"}}, \"$schema\": \"https://vega.github.io/schema/vega-lite/v4.17.0.json\", \"datasets\": {\"data-51cdfbbb7ab707e6c5c69e0568626517\": [{\"sector\": \"Industrials\", \"growth_rate\": 0.10700455112967049}, {\"sector\": \"Health Care\", \"growth_rate\": 0.0384703105421106}, {\"sector\": \"Information Technology\", \"growth_rate\": 0.03505190394114294}, {\"sector\": \"Communication Services\", \"growth_rate\": -0.06910620849948675}, {\"sector\": \"Consumer Staples\", \"growth_rate\": 0.017842920520406057}, {\"sector\": \"Consumer Discretionary\", \"growth_rate\": 0.10361348556540609}, {\"sector\": \"Utilities\", \"growth_rate\": -0.05829678696781753}, {\"sector\": \"Financials\", \"growth_rate\": 0.04989888230627325}, {\"sector\": \"Materials\", \"growth_rate\": -0.04711746547787481}, {\"sector\": \"Real Estate\", \"growth_rate\": -0.09053678817500431}, {\"sector\": \"Energy\", \"growth_rate\": -0.10197453671343604}]}}, {\"mode\": \"vega-lite\"});\n",
       "</script>"
      ],
      "text/plain": [
       "alt.Chart(...)"
      ]
     },
     "execution_count": 56,
     "metadata": {},
     "output_type": "execute_result"
    }
   ],
   "source": [
    "bar_chart(180)"
   ]
  },
  {
   "cell_type": "code",
   "execution_count": 57,
   "id": "508e408b-580c-48bd-9976-ed989c13534b",
   "metadata": {},
   "outputs": [
    {
     "name": "stderr",
     "output_type": "stream",
     "text": [
      "/var/folders/yw/73qbgz6d7nn4vhww_7_1sy_w0000gn/T/ipykernel_10037/349219200.py:6: UserWarning: Boolean Series key will be reindexed to match DataFrame index.\n",
      "  dff=df[df['GICS Sector']==sector_name[i]][df['Symbol']==n]\n"
     ]
    },
    {
     "data": {
      "text/html": [
       "\n",
       "<div id=\"altair-viz-424cd4f7e10c4230935528f253b14001\"></div>\n",
       "<script type=\"text/javascript\">\n",
       "  var VEGA_DEBUG = (typeof VEGA_DEBUG == \"undefined\") ? {} : VEGA_DEBUG;\n",
       "  (function(spec, embedOpt){\n",
       "    let outputDiv = document.currentScript.previousElementSibling;\n",
       "    if (outputDiv.id !== \"altair-viz-424cd4f7e10c4230935528f253b14001\") {\n",
       "      outputDiv = document.getElementById(\"altair-viz-424cd4f7e10c4230935528f253b14001\");\n",
       "    }\n",
       "    const paths = {\n",
       "      \"vega\": \"https://cdn.jsdelivr.net/npm//vega@5?noext\",\n",
       "      \"vega-lib\": \"https://cdn.jsdelivr.net/npm//vega-lib?noext\",\n",
       "      \"vega-lite\": \"https://cdn.jsdelivr.net/npm//vega-lite@4.17.0?noext\",\n",
       "      \"vega-embed\": \"https://cdn.jsdelivr.net/npm//vega-embed@6?noext\",\n",
       "    };\n",
       "\n",
       "    function maybeLoadScript(lib, version) {\n",
       "      var key = `${lib.replace(\"-\", \"\")}_version`;\n",
       "      return (VEGA_DEBUG[key] == version) ?\n",
       "        Promise.resolve(paths[lib]) :\n",
       "        new Promise(function(resolve, reject) {\n",
       "          var s = document.createElement('script');\n",
       "          document.getElementsByTagName(\"head\")[0].appendChild(s);\n",
       "          s.async = true;\n",
       "          s.onload = () => {\n",
       "            VEGA_DEBUG[key] = version;\n",
       "            return resolve(paths[lib]);\n",
       "          };\n",
       "          s.onerror = () => reject(`Error loading script: ${paths[lib]}`);\n",
       "          s.src = paths[lib];\n",
       "        });\n",
       "    }\n",
       "\n",
       "    function showError(err) {\n",
       "      outputDiv.innerHTML = `<div class=\"error\" style=\"color:red;\">${err}</div>`;\n",
       "      throw err;\n",
       "    }\n",
       "\n",
       "    function displayChart(vegaEmbed) {\n",
       "      vegaEmbed(outputDiv, spec, embedOpt)\n",
       "        .catch(err => showError(`Javascript Error: ${err.message}<br>This usually means there's a typo in your chart specification. See the javascript console for the full traceback.`));\n",
       "    }\n",
       "\n",
       "    if(typeof define === \"function\" && define.amd) {\n",
       "      requirejs.config({paths});\n",
       "      require([\"vega-embed\"], displayChart, err => showError(`Error loading script: ${err.message}`));\n",
       "    } else {\n",
       "      maybeLoadScript(\"vega\", \"5\")\n",
       "        .then(() => maybeLoadScript(\"vega-lite\", \"4.17.0\"))\n",
       "        .then(() => maybeLoadScript(\"vega-embed\", \"6\"))\n",
       "        .catch(showError)\n",
       "        .then(() => displayChart(vegaEmbed));\n",
       "    }\n",
       "  })({\"config\": {\"view\": {\"continuousWidth\": 400, \"continuousHeight\": 300}}, \"data\": {\"name\": \"data-bf021c3d72aa5711791b3767b07122e3\"}, \"mark\": \"bar\", \"encoding\": {\"color\": {\"condition\": {\"value\": \"green\", \"test\": \"(datum.growth_rate > 0)\"}, \"value\": \"red\"}, \"x\": {\"field\": \"sector\", \"sort\": \"-y\", \"type\": \"nominal\"}, \"y\": {\"field\": \"growth_rate\", \"type\": \"quantitative\"}}, \"$schema\": \"https://vega.github.io/schema/vega-lite/v4.17.0.json\", \"datasets\": {\"data-bf021c3d72aa5711791b3767b07122e3\": [{\"sector\": \"Industrials\", \"growth_rate\": 0.01846705380720128}, {\"sector\": \"Health Care\", \"growth_rate\": -0.05301924940327606}, {\"sector\": \"Information Technology\", \"growth_rate\": -0.08862308403769661}, {\"sector\": \"Communication Services\", \"growth_rate\": -0.2534266108567243}, {\"sector\": \"Consumer Staples\", \"growth_rate\": 0.07055625524368801}, {\"sector\": \"Consumer Discretionary\", \"growth_rate\": -0.05833347500502017}, {\"sector\": \"Utilities\", \"growth_rate\": 0.03840891449947618}, {\"sector\": \"Financials\", \"growth_rate\": 0.006527577374439108}, {\"sector\": \"Materials\", \"growth_rate\": 0.044319677527224294}, {\"sector\": \"Real Estate\", \"growth_rate\": -0.12881722794970887}, {\"sector\": \"Energy\", \"growth_rate\": 0.7205273761570218}]}}, {\"mode\": \"vega-lite\"});\n",
       "</script>"
      ],
      "text/plain": [
       "alt.Chart(...)"
      ]
     },
     "execution_count": 57,
     "metadata": {},
     "output_type": "execute_result"
    }
   ],
   "source": [
    "bar_chart(360)"
   ]
  },
  {
   "cell_type": "code",
   "execution_count": null,
   "id": "7b92067d-c434-47d9-96d8-7c1e25d546ea",
   "metadata": {},
   "outputs": [],
   "source": []
  }
 ],
 "metadata": {
  "kernelspec": {
   "display_name": "Python 3 (ipykernel)",
   "language": "python",
   "name": "python3"
  },
  "language_info": {
   "codemirror_mode": {
    "name": "ipython",
    "version": 3
   },
   "file_extension": ".py",
   "mimetype": "text/x-python",
   "name": "python",
   "nbconvert_exporter": "python",
   "pygments_lexer": "ipython3",
   "version": "3.9.13"
  }
 },
 "nbformat": 4,
 "nbformat_minor": 5
}
