{
 "cells": [
  {
   "cell_type": "code",
   "execution_count": 1,
   "id": "d9d9b77f-92bf-4960-a1f5-51b315c3c122",
   "metadata": {},
   "outputs": [],
   "source": [
    "import pandas as pd\n",
    "import altair as alt"
   ]
  },
  {
   "cell_type": "code",
   "execution_count": 2,
   "id": "f54e4b52-87dd-48a6-967e-99d79dcbb4fc",
   "metadata": {},
   "outputs": [
    {
     "data": {
      "text/plain": "                        Date       Close   Volume Symbol  GICS Sector  \\\n0  2022-01-03 00:00:00-05:00  177.740005  1930700    MMM  Industrials   \n1  2022-01-04 00:00:00-05:00  180.229996  2522200    MMM  Industrials   \n2  2022-01-05 00:00:00-05:00  179.490005  2952400    MMM  Industrials   \n3  2022-01-06 00:00:00-05:00  178.000000  2505400    MMM  Industrials   \n4  2022-01-07 00:00:00-05:00  179.949997  2800200    MMM  Industrials   \n\n          GICS Sub-Industry  \n0  Industrial Conglomerates  \n1  Industrial Conglomerates  \n2  Industrial Conglomerates  \n3  Industrial Conglomerates  \n4  Industrial Conglomerates  ",
      "text/html": "<div>\n<style scoped>\n    .dataframe tbody tr th:only-of-type {\n        vertical-align: middle;\n    }\n\n    .dataframe tbody tr th {\n        vertical-align: top;\n    }\n\n    .dataframe thead th {\n        text-align: right;\n    }\n</style>\n<table border=\"1\" class=\"dataframe\">\n  <thead>\n    <tr style=\"text-align: right;\">\n      <th></th>\n      <th>Date</th>\n      <th>Close</th>\n      <th>Volume</th>\n      <th>Symbol</th>\n      <th>GICS Sector</th>\n      <th>GICS Sub-Industry</th>\n    </tr>\n  </thead>\n  <tbody>\n    <tr>\n      <th>0</th>\n      <td>2022-01-03 00:00:00-05:00</td>\n      <td>177.740005</td>\n      <td>1930700</td>\n      <td>MMM</td>\n      <td>Industrials</td>\n      <td>Industrial Conglomerates</td>\n    </tr>\n    <tr>\n      <th>1</th>\n      <td>2022-01-04 00:00:00-05:00</td>\n      <td>180.229996</td>\n      <td>2522200</td>\n      <td>MMM</td>\n      <td>Industrials</td>\n      <td>Industrial Conglomerates</td>\n    </tr>\n    <tr>\n      <th>2</th>\n      <td>2022-01-05 00:00:00-05:00</td>\n      <td>179.490005</td>\n      <td>2952400</td>\n      <td>MMM</td>\n      <td>Industrials</td>\n      <td>Industrial Conglomerates</td>\n    </tr>\n    <tr>\n      <th>3</th>\n      <td>2022-01-06 00:00:00-05:00</td>\n      <td>178.000000</td>\n      <td>2505400</td>\n      <td>MMM</td>\n      <td>Industrials</td>\n      <td>Industrial Conglomerates</td>\n    </tr>\n    <tr>\n      <th>4</th>\n      <td>2022-01-07 00:00:00-05:00</td>\n      <td>179.949997</td>\n      <td>2800200</td>\n      <td>MMM</td>\n      <td>Industrials</td>\n      <td>Industrial Conglomerates</td>\n    </tr>\n  </tbody>\n</table>\n</div>"
     },
     "execution_count": 2,
     "metadata": {},
     "output_type": "execute_result"
    }
   ],
   "source": [
    "df = pd.read_csv('data/SP500_merged.csv')\n",
    "df = df[df['Symbol'] != 'GEHC']\n",
    "# GEHC only have 44 values, if we want to know the data for past 1 year, for each Symbol at least have 360 values\n",
    "df.head()"
   ]
  },
  {
   "cell_type": "code",
   "execution_count": 3,
   "id": "028c55f4-b28a-4392-875e-327e5886ef01",
   "metadata": {},
   "outputs": [],
   "source": [
    "sector_name=df['GICS Sector'].unique().tolist()\n",
    "sector_symbol = []\n",
    "for i in sector_name:\n",
    "    sector_symbol.append(df[df['GICS Sector']==i]['Symbol'].unique().tolist())"
   ]
  },
  {
   "cell_type": "markdown",
   "id": "2d37e8e8-eb7f-4d80-bc51-80ce4eb53207",
   "metadata": {},
   "source": [
    "# bar chart sector"
   ]
  },
  {
   "cell_type": "code",
   "execution_count": 4,
   "id": "d430e552-fabd-490d-b283-ae1d70df84cb",
   "metadata": {},
   "outputs": [],
   "source": [
    "def growth_rate (duration):\n",
    "    grow_rate_mean=[]\n",
    "    for i in range(len(sector_name)):\n",
    "        grow_rate=[]\n",
    "        for n in sector_symbol[i]:\n",
    "            dff=df[df['GICS Sector']==sector_name[i]][df['Symbol']==n]\n",
    "            grow_rate.append(dff.iloc[len(dff)-1,1]/dff.iloc[len(dff)-1-duration,1]-1)\n",
    "        grow_rate_mean.append(sum(grow_rate)/len(grow_rate)) \n",
    "    sector_growth_rate=pd.DataFrame({'sector': sector_name, 'growth_rate': grow_rate_mean})\n",
    "    return sector_growth_rate"
   ]
  },
  {
   "cell_type": "code",
   "execution_count": 5,
   "id": "18139ebe-6658-4f2c-b769-4b1278de0219",
   "metadata": {},
   "outputs": [],
   "source": [
    "def bar_chart(duration):\n",
    "    chart = alt.Chart(growth_rate(duration)).mark_bar().encode(\n",
    "       x=alt.X('sector', sort='-y'),\n",
    "       y='growth_rate',\n",
    "       color=alt.condition(\n",
    "          alt.datum.growth_rate > 0,  # condition for positive values\n",
    "          alt.value('green'),   # color for positive values\n",
    "          alt.value('red')      # color for negative values\n",
    "       )\n",
    "     )\n",
    "    return chart"
   ]
  },
  {
   "cell_type": "code",
   "execution_count": 6,
   "id": "8db4f2e7-f5ee-45c2-9366-db9cb8e29ad9",
   "metadata": {},
   "outputs": [
    {
     "name": "stderr",
     "output_type": "stream",
     "text": [
      "/var/folders/7s/086nw8893dq343kp9p40cjdw0000gn/T/ipykernel_33800/1827363649.py:6: UserWarning: Boolean Series key will be reindexed to match DataFrame index.\n",
      "  dff=df[df['GICS Sector']==sector_name[i]][df['Symbol']==n]\n"
     ]
    },
    {
     "data": {
      "text/html": "\n<div id=\"altair-viz-6f728ca59fdf45aa9f9911cb9caab75e\"></div>\n<script type=\"text/javascript\">\n  var VEGA_DEBUG = (typeof VEGA_DEBUG == \"undefined\") ? {} : VEGA_DEBUG;\n  (function(spec, embedOpt){\n    let outputDiv = document.currentScript.previousElementSibling;\n    if (outputDiv.id !== \"altair-viz-6f728ca59fdf45aa9f9911cb9caab75e\") {\n      outputDiv = document.getElementById(\"altair-viz-6f728ca59fdf45aa9f9911cb9caab75e\");\n    }\n    const paths = {\n      \"vega\": \"https://cdn.jsdelivr.net/npm//vega@5?noext\",\n      \"vega-lib\": \"https://cdn.jsdelivr.net/npm//vega-lib?noext\",\n      \"vega-lite\": \"https://cdn.jsdelivr.net/npm//vega-lite@4.17.0?noext\",\n      \"vega-embed\": \"https://cdn.jsdelivr.net/npm//vega-embed@6?noext\",\n    };\n\n    function maybeLoadScript(lib, version) {\n      var key = `${lib.replace(\"-\", \"\")}_version`;\n      return (VEGA_DEBUG[key] == version) ?\n        Promise.resolve(paths[lib]) :\n        new Promise(function(resolve, reject) {\n          var s = document.createElement('script');\n          document.getElementsByTagName(\"head\")[0].appendChild(s);\n          s.async = true;\n          s.onload = () => {\n            VEGA_DEBUG[key] = version;\n            return resolve(paths[lib]);\n          };\n          s.onerror = () => reject(`Error loading script: ${paths[lib]}`);\n          s.src = paths[lib];\n        });\n    }\n\n    function showError(err) {\n      outputDiv.innerHTML = `<div class=\"error\" style=\"color:red;\">${err}</div>`;\n      throw err;\n    }\n\n    function displayChart(vegaEmbed) {\n      vegaEmbed(outputDiv, spec, embedOpt)\n        .catch(err => showError(`Javascript Error: ${err.message}<br>This usually means there's a typo in your chart specification. See the javascript console for the full traceback.`));\n    }\n\n    if(typeof define === \"function\" && define.amd) {\n      requirejs.config({paths});\n      require([\"vega-embed\"], displayChart, err => showError(`Error loading script: ${err.message}`));\n    } else {\n      maybeLoadScript(\"vega\", \"5\")\n        .then(() => maybeLoadScript(\"vega-lite\", \"4.17.0\"))\n        .then(() => maybeLoadScript(\"vega-embed\", \"6\"))\n        .catch(showError)\n        .then(() => displayChart(vegaEmbed));\n    }\n  })({\"config\": {\"view\": {\"continuousWidth\": 400, \"continuousHeight\": 300}}, \"data\": {\"name\": \"data-12c9a888527a7e460dfc38b97133f075\"}, \"mark\": \"bar\", \"encoding\": {\"color\": {\"condition\": {\"value\": \"green\", \"test\": \"(datum.growth_rate > 0)\"}, \"value\": \"red\"}, \"x\": {\"field\": \"sector\", \"sort\": \"-y\", \"type\": \"nominal\"}, \"y\": {\"field\": \"growth_rate\", \"type\": \"quantitative\"}}, \"$schema\": \"https://vega.github.io/schema/vega-lite/v4.17.0.json\", \"datasets\": {\"data-12c9a888527a7e460dfc38b97133f075\": [{\"sector\": \"Industrials\", \"growth_rate\": -0.014151914152246111}, {\"sector\": \"Health Care\", \"growth_rate\": -0.030174851379975068}, {\"sector\": \"Information Technology\", \"growth_rate\": -0.03169586242214173}, {\"sector\": \"Communication Services\", \"growth_rate\": -0.05220151974154834}, {\"sector\": \"Consumer Staples\", \"growth_rate\": -7.427037475157133e-05}, {\"sector\": \"Consumer Discretionary\", \"growth_rate\": -0.03805025160186278}, {\"sector\": \"Utilities\", \"growth_rate\": -0.023849409674355938}, {\"sector\": \"Financials\", \"growth_rate\": -0.01910417473079809}, {\"sector\": \"Materials\", \"growth_rate\": -0.01267676565582815}, {\"sector\": \"Real Estate\", \"growth_rate\": -0.031217746471637116}, {\"sector\": \"Energy\", \"growth_rate\": -0.03371577208884964}]}}, {\"mode\": \"vega-lite\"});\n</script>",
      "text/plain": "alt.Chart(...)"
     },
     "execution_count": 6,
     "metadata": {},
     "output_type": "execute_result"
    }
   ],
   "source": [
    "bar_chart(7)"
   ]
  },
  {
   "cell_type": "code",
   "execution_count": 7,
   "id": "4483888e-b2ea-457b-bdc7-124e9ab7cb00",
   "metadata": {},
   "outputs": [
    {
     "name": "stderr",
     "output_type": "stream",
     "text": [
      "/var/folders/7s/086nw8893dq343kp9p40cjdw0000gn/T/ipykernel_33800/1827363649.py:6: UserWarning: Boolean Series key will be reindexed to match DataFrame index.\n",
      "  dff=df[df['GICS Sector']==sector_name[i]][df['Symbol']==n]\n"
     ]
    },
    {
     "data": {
      "text/html": "\n<div id=\"altair-viz-bd0f0656002c495cbd51d134c3e5f21a\"></div>\n<script type=\"text/javascript\">\n  var VEGA_DEBUG = (typeof VEGA_DEBUG == \"undefined\") ? {} : VEGA_DEBUG;\n  (function(spec, embedOpt){\n    let outputDiv = document.currentScript.previousElementSibling;\n    if (outputDiv.id !== \"altair-viz-bd0f0656002c495cbd51d134c3e5f21a\") {\n      outputDiv = document.getElementById(\"altair-viz-bd0f0656002c495cbd51d134c3e5f21a\");\n    }\n    const paths = {\n      \"vega\": \"https://cdn.jsdelivr.net/npm//vega@5?noext\",\n      \"vega-lib\": \"https://cdn.jsdelivr.net/npm//vega-lib?noext\",\n      \"vega-lite\": \"https://cdn.jsdelivr.net/npm//vega-lite@4.17.0?noext\",\n      \"vega-embed\": \"https://cdn.jsdelivr.net/npm//vega-embed@6?noext\",\n    };\n\n    function maybeLoadScript(lib, version) {\n      var key = `${lib.replace(\"-\", \"\")}_version`;\n      return (VEGA_DEBUG[key] == version) ?\n        Promise.resolve(paths[lib]) :\n        new Promise(function(resolve, reject) {\n          var s = document.createElement('script');\n          document.getElementsByTagName(\"head\")[0].appendChild(s);\n          s.async = true;\n          s.onload = () => {\n            VEGA_DEBUG[key] = version;\n            return resolve(paths[lib]);\n          };\n          s.onerror = () => reject(`Error loading script: ${paths[lib]}`);\n          s.src = paths[lib];\n        });\n    }\n\n    function showError(err) {\n      outputDiv.innerHTML = `<div class=\"error\" style=\"color:red;\">${err}</div>`;\n      throw err;\n    }\n\n    function displayChart(vegaEmbed) {\n      vegaEmbed(outputDiv, spec, embedOpt)\n        .catch(err => showError(`Javascript Error: ${err.message}<br>This usually means there's a typo in your chart specification. See the javascript console for the full traceback.`));\n    }\n\n    if(typeof define === \"function\" && define.amd) {\n      requirejs.config({paths});\n      require([\"vega-embed\"], displayChart, err => showError(`Error loading script: ${err.message}`));\n    } else {\n      maybeLoadScript(\"vega\", \"5\")\n        .then(() => maybeLoadScript(\"vega-lite\", \"4.17.0\"))\n        .then(() => maybeLoadScript(\"vega-embed\", \"6\"))\n        .catch(showError)\n        .then(() => displayChart(vegaEmbed));\n    }\n  })({\"config\": {\"view\": {\"continuousWidth\": 400, \"continuousHeight\": 300}}, \"data\": {\"name\": \"data-b08d223495692f99e15bbc46bc9ea537\"}, \"mark\": \"bar\", \"encoding\": {\"color\": {\"condition\": {\"value\": \"green\", \"test\": \"(datum.growth_rate > 0)\"}, \"value\": \"red\"}, \"x\": {\"field\": \"sector\", \"sort\": \"-y\", \"type\": \"nominal\"}, \"y\": {\"field\": \"growth_rate\", \"type\": \"quantitative\"}}, \"$schema\": \"https://vega.github.io/schema/vega-lite/v4.17.0.json\", \"datasets\": {\"data-b08d223495692f99e15bbc46bc9ea537\": [{\"sector\": \"Industrials\", \"growth_rate\": 0.0023335885917622574}, {\"sector\": \"Health Care\", \"growth_rate\": -0.0320251629359373}, {\"sector\": \"Information Technology\", \"growth_rate\": 0.01861639089993515}, {\"sector\": \"Communication Services\", \"growth_rate\": -0.025367815472879706}, {\"sector\": \"Consumer Staples\", \"growth_rate\": -0.028031662119495503}, {\"sector\": \"Consumer Discretionary\", \"growth_rate\": 0.008362762984028032}, {\"sector\": \"Utilities\", \"growth_rate\": -0.06046239458127148}, {\"sector\": \"Financials\", \"growth_rate\": 0.0022026245061897245}, {\"sector\": \"Materials\", \"growth_rate\": -0.023966521348884197}, {\"sector\": \"Real Estate\", \"growth_rate\": -0.00948505183145026}, {\"sector\": \"Energy\", \"growth_rate\": -0.07177159062617654}]}}, {\"mode\": \"vega-lite\"});\n</script>",
      "text/plain": "alt.Chart(...)"
     },
     "execution_count": 7,
     "metadata": {},
     "output_type": "execute_result"
    }
   ],
   "source": [
    "bar_chart(30)"
   ]
  },
  {
   "cell_type": "code",
   "execution_count": 8,
   "id": "51a3f7f0-487d-432a-a08c-84f13190cf5c",
   "metadata": {},
   "outputs": [
    {
     "name": "stderr",
     "output_type": "stream",
     "text": [
      "/var/folders/7s/086nw8893dq343kp9p40cjdw0000gn/T/ipykernel_33800/1827363649.py:6: UserWarning: Boolean Series key will be reindexed to match DataFrame index.\n",
      "  dff=df[df['GICS Sector']==sector_name[i]][df['Symbol']==n]\n"
     ]
    },
    {
     "data": {
      "text/html": "\n<div id=\"altair-viz-174c5aa791cf47e881a204e676962403\"></div>\n<script type=\"text/javascript\">\n  var VEGA_DEBUG = (typeof VEGA_DEBUG == \"undefined\") ? {} : VEGA_DEBUG;\n  (function(spec, embedOpt){\n    let outputDiv = document.currentScript.previousElementSibling;\n    if (outputDiv.id !== \"altair-viz-174c5aa791cf47e881a204e676962403\") {\n      outputDiv = document.getElementById(\"altair-viz-174c5aa791cf47e881a204e676962403\");\n    }\n    const paths = {\n      \"vega\": \"https://cdn.jsdelivr.net/npm//vega@5?noext\",\n      \"vega-lib\": \"https://cdn.jsdelivr.net/npm//vega-lib?noext\",\n      \"vega-lite\": \"https://cdn.jsdelivr.net/npm//vega-lite@4.17.0?noext\",\n      \"vega-embed\": \"https://cdn.jsdelivr.net/npm//vega-embed@6?noext\",\n    };\n\n    function maybeLoadScript(lib, version) {\n      var key = `${lib.replace(\"-\", \"\")}_version`;\n      return (VEGA_DEBUG[key] == version) ?\n        Promise.resolve(paths[lib]) :\n        new Promise(function(resolve, reject) {\n          var s = document.createElement('script');\n          document.getElementsByTagName(\"head\")[0].appendChild(s);\n          s.async = true;\n          s.onload = () => {\n            VEGA_DEBUG[key] = version;\n            return resolve(paths[lib]);\n          };\n          s.onerror = () => reject(`Error loading script: ${paths[lib]}`);\n          s.src = paths[lib];\n        });\n    }\n\n    function showError(err) {\n      outputDiv.innerHTML = `<div class=\"error\" style=\"color:red;\">${err}</div>`;\n      throw err;\n    }\n\n    function displayChart(vegaEmbed) {\n      vegaEmbed(outputDiv, spec, embedOpt)\n        .catch(err => showError(`Javascript Error: ${err.message}<br>This usually means there's a typo in your chart specification. See the javascript console for the full traceback.`));\n    }\n\n    if(typeof define === \"function\" && define.amd) {\n      requirejs.config({paths});\n      require([\"vega-embed\"], displayChart, err => showError(`Error loading script: ${err.message}`));\n    } else {\n      maybeLoadScript(\"vega\", \"5\")\n        .then(() => maybeLoadScript(\"vega-lite\", \"4.17.0\"))\n        .then(() => maybeLoadScript(\"vega-embed\", \"6\"))\n        .catch(showError)\n        .then(() => displayChart(vegaEmbed));\n    }\n  })({\"config\": {\"view\": {\"continuousWidth\": 400, \"continuousHeight\": 300}}, \"data\": {\"name\": \"data-fe9dbbb4661c9dc13e6232567fd3ab9e\"}, \"mark\": \"bar\", \"encoding\": {\"color\": {\"condition\": {\"value\": \"green\", \"test\": \"(datum.growth_rate > 0)\"}, \"value\": \"red\"}, \"x\": {\"field\": \"sector\", \"sort\": \"-y\", \"type\": \"nominal\"}, \"y\": {\"field\": \"growth_rate\", \"type\": \"quantitative\"}}, \"$schema\": \"https://vega.github.io/schema/vega-lite/v4.17.0.json\", \"datasets\": {\"data-fe9dbbb4661c9dc13e6232567fd3ab9e\": [{\"sector\": \"Industrials\", \"growth_rate\": 0.14732179135812135}, {\"sector\": \"Health Care\", \"growth_rate\": 0.06704129425572376}, {\"sector\": \"Information Technology\", \"growth_rate\": 0.16117186912616932}, {\"sector\": \"Communication Services\", \"growth_rate\": 0.05526198536256523}, {\"sector\": \"Consumer Staples\", \"growth_rate\": 0.0447891914282191}, {\"sector\": \"Consumer Discretionary\", \"growth_rate\": 0.1665393905275898}, {\"sector\": \"Utilities\", \"growth_rate\": 0.03457895511382012}, {\"sector\": \"Financials\", \"growth_rate\": 0.1005318320404989}, {\"sector\": \"Materials\", \"growth_rate\": 0.13759501169165128}, {\"sector\": \"Real Estate\", \"growth_rate\": 0.08227456030476882}, {\"sector\": \"Energy\", \"growth_rate\": 0.013631251052221034}]}}, {\"mode\": \"vega-lite\"});\n</script>",
      "text/plain": "alt.Chart(...)"
     },
     "execution_count": 8,
     "metadata": {},
     "output_type": "execute_result"
    }
   ],
   "source": [
    "bar_chart(90)"
   ]
  },
  {
   "cell_type": "code",
   "execution_count": 9,
   "id": "426a7937-b3e9-4fe4-87a8-d8a23285f216",
   "metadata": {},
   "outputs": [
    {
     "name": "stderr",
     "output_type": "stream",
     "text": [
      "/var/folders/7s/086nw8893dq343kp9p40cjdw0000gn/T/ipykernel_33800/1827363649.py:6: UserWarning: Boolean Series key will be reindexed to match DataFrame index.\n",
      "  dff=df[df['GICS Sector']==sector_name[i]][df['Symbol']==n]\n"
     ]
    },
    {
     "data": {
      "text/html": "\n<div id=\"altair-viz-81f00020d8b548bab2185fcb5818b0e1\"></div>\n<script type=\"text/javascript\">\n  var VEGA_DEBUG = (typeof VEGA_DEBUG == \"undefined\") ? {} : VEGA_DEBUG;\n  (function(spec, embedOpt){\n    let outputDiv = document.currentScript.previousElementSibling;\n    if (outputDiv.id !== \"altair-viz-81f00020d8b548bab2185fcb5818b0e1\") {\n      outputDiv = document.getElementById(\"altair-viz-81f00020d8b548bab2185fcb5818b0e1\");\n    }\n    const paths = {\n      \"vega\": \"https://cdn.jsdelivr.net/npm//vega@5?noext\",\n      \"vega-lib\": \"https://cdn.jsdelivr.net/npm//vega-lib?noext\",\n      \"vega-lite\": \"https://cdn.jsdelivr.net/npm//vega-lite@4.17.0?noext\",\n      \"vega-embed\": \"https://cdn.jsdelivr.net/npm//vega-embed@6?noext\",\n    };\n\n    function maybeLoadScript(lib, version) {\n      var key = `${lib.replace(\"-\", \"\")}_version`;\n      return (VEGA_DEBUG[key] == version) ?\n        Promise.resolve(paths[lib]) :\n        new Promise(function(resolve, reject) {\n          var s = document.createElement('script');\n          document.getElementsByTagName(\"head\")[0].appendChild(s);\n          s.async = true;\n          s.onload = () => {\n            VEGA_DEBUG[key] = version;\n            return resolve(paths[lib]);\n          };\n          s.onerror = () => reject(`Error loading script: ${paths[lib]}`);\n          s.src = paths[lib];\n        });\n    }\n\n    function showError(err) {\n      outputDiv.innerHTML = `<div class=\"error\" style=\"color:red;\">${err}</div>`;\n      throw err;\n    }\n\n    function displayChart(vegaEmbed) {\n      vegaEmbed(outputDiv, spec, embedOpt)\n        .catch(err => showError(`Javascript Error: ${err.message}<br>This usually means there's a typo in your chart specification. See the javascript console for the full traceback.`));\n    }\n\n    if(typeof define === \"function\" && define.amd) {\n      requirejs.config({paths});\n      require([\"vega-embed\"], displayChart, err => showError(`Error loading script: ${err.message}`));\n    } else {\n      maybeLoadScript(\"vega\", \"5\")\n        .then(() => maybeLoadScript(\"vega-lite\", \"4.17.0\"))\n        .then(() => maybeLoadScript(\"vega-embed\", \"6\"))\n        .catch(showError)\n        .then(() => displayChart(vegaEmbed));\n    }\n  })({\"config\": {\"view\": {\"continuousWidth\": 400, \"continuousHeight\": 300}}, \"data\": {\"name\": \"data-6187de6a0811fd7ff216298cd32b7814\"}, \"mark\": \"bar\", \"encoding\": {\"color\": {\"condition\": {\"value\": \"green\", \"test\": \"(datum.growth_rate > 0)\"}, \"value\": \"red\"}, \"x\": {\"field\": \"sector\", \"sort\": \"-y\", \"type\": \"nominal\"}, \"y\": {\"field\": \"growth_rate\", \"type\": \"quantitative\"}}, \"$schema\": \"https://vega.github.io/schema/vega-lite/v4.17.0.json\", \"datasets\": {\"data-6187de6a0811fd7ff216298cd32b7814\": [{\"sector\": \"Industrials\", \"growth_rate\": 0.0959323744285096}, {\"sector\": \"Health Care\", \"growth_rate\": 0.02380420190027168}, {\"sector\": \"Information Technology\", \"growth_rate\": 0.030345175164082944}, {\"sector\": \"Communication Services\", \"growth_rate\": -0.09137609450831768}, {\"sector\": \"Consumer Staples\", \"growth_rate\": 0.022298331769029428}, {\"sector\": \"Consumer Discretionary\", \"growth_rate\": 0.07956653394188624}, {\"sector\": \"Utilities\", \"growth_rate\": -0.05548967908352663}, {\"sector\": \"Financials\", \"growth_rate\": 0.06031847311338525}, {\"sector\": \"Materials\", \"growth_rate\": -0.02778965177807704}, {\"sector\": \"Real Estate\", \"growth_rate\": -0.06849257678674689}, {\"sector\": \"Energy\", \"growth_rate\": -0.10733002732880062}]}}, {\"mode\": \"vega-lite\"});\n</script>",
      "text/plain": "alt.Chart(...)"
     },
     "execution_count": 9,
     "metadata": {},
     "output_type": "execute_result"
    }
   ],
   "source": [
    "bar_chart(180)"
   ]
  },
  {
   "cell_type": "code",
   "execution_count": 10,
   "id": "508e408b-580c-48bd-9976-ed989c13534b",
   "metadata": {},
   "outputs": [
    {
     "name": "stderr",
     "output_type": "stream",
     "text": [
      "/var/folders/7s/086nw8893dq343kp9p40cjdw0000gn/T/ipykernel_33800/1827363649.py:6: UserWarning: Boolean Series key will be reindexed to match DataFrame index.\n",
      "  dff=df[df['GICS Sector']==sector_name[i]][df['Symbol']==n]\n"
     ]
    },
    {
     "data": {
      "text/html": "\n<div id=\"altair-viz-d8bb2bc231f249a991fd6bed7aa4805a\"></div>\n<script type=\"text/javascript\">\n  var VEGA_DEBUG = (typeof VEGA_DEBUG == \"undefined\") ? {} : VEGA_DEBUG;\n  (function(spec, embedOpt){\n    let outputDiv = document.currentScript.previousElementSibling;\n    if (outputDiv.id !== \"altair-viz-d8bb2bc231f249a991fd6bed7aa4805a\") {\n      outputDiv = document.getElementById(\"altair-viz-d8bb2bc231f249a991fd6bed7aa4805a\");\n    }\n    const paths = {\n      \"vega\": \"https://cdn.jsdelivr.net/npm//vega@5?noext\",\n      \"vega-lib\": \"https://cdn.jsdelivr.net/npm//vega-lib?noext\",\n      \"vega-lite\": \"https://cdn.jsdelivr.net/npm//vega-lite@4.17.0?noext\",\n      \"vega-embed\": \"https://cdn.jsdelivr.net/npm//vega-embed@6?noext\",\n    };\n\n    function maybeLoadScript(lib, version) {\n      var key = `${lib.replace(\"-\", \"\")}_version`;\n      return (VEGA_DEBUG[key] == version) ?\n        Promise.resolve(paths[lib]) :\n        new Promise(function(resolve, reject) {\n          var s = document.createElement('script');\n          document.getElementsByTagName(\"head\")[0].appendChild(s);\n          s.async = true;\n          s.onload = () => {\n            VEGA_DEBUG[key] = version;\n            return resolve(paths[lib]);\n          };\n          s.onerror = () => reject(`Error loading script: ${paths[lib]}`);\n          s.src = paths[lib];\n        });\n    }\n\n    function showError(err) {\n      outputDiv.innerHTML = `<div class=\"error\" style=\"color:red;\">${err}</div>`;\n      throw err;\n    }\n\n    function displayChart(vegaEmbed) {\n      vegaEmbed(outputDiv, spec, embedOpt)\n        .catch(err => showError(`Javascript Error: ${err.message}<br>This usually means there's a typo in your chart specification. See the javascript console for the full traceback.`));\n    }\n\n    if(typeof define === \"function\" && define.amd) {\n      requirejs.config({paths});\n      require([\"vega-embed\"], displayChart, err => showError(`Error loading script: ${err.message}`));\n    } else {\n      maybeLoadScript(\"vega\", \"5\")\n        .then(() => maybeLoadScript(\"vega-lite\", \"4.17.0\"))\n        .then(() => maybeLoadScript(\"vega-embed\", \"6\"))\n        .catch(showError)\n        .then(() => displayChart(vegaEmbed));\n    }\n  })({\"config\": {\"view\": {\"continuousWidth\": 400, \"continuousHeight\": 300}}, \"data\": {\"name\": \"data-60159c0e0961c3e4584dbcb084b6dfa4\"}, \"mark\": \"bar\", \"encoding\": {\"color\": {\"condition\": {\"value\": \"green\", \"test\": \"(datum.growth_rate > 0)\"}, \"value\": \"red\"}, \"x\": {\"field\": \"sector\", \"sort\": \"-y\", \"type\": \"nominal\"}, \"y\": {\"field\": \"growth_rate\", \"type\": \"quantitative\"}}, \"$schema\": \"https://vega.github.io/schema/vega-lite/v4.17.0.json\", \"datasets\": {\"data-60159c0e0961c3e4584dbcb084b6dfa4\": [{\"sector\": \"Industrials\", \"growth_rate\": 0.028923499507547065}, {\"sector\": \"Health Care\", \"growth_rate\": 0.001412568636539045}, {\"sector\": \"Information Technology\", \"growth_rate\": 0.01170677424335492}, {\"sector\": \"Communication Services\", \"growth_rate\": 0.01487236598528069}, {\"sector\": \"Consumer Staples\", \"growth_rate\": 0.0021851241529469156}, {\"sector\": \"Consumer Discretionary\", \"growth_rate\": 0.03805418599097976}, {\"sector\": \"Utilities\", \"growth_rate\": -0.015970484800408424}, {\"sector\": \"Financials\", \"growth_rate\": 0.023026356879873422}, {\"sector\": \"Materials\", \"growth_rate\": 0.014201583223809638}, {\"sector\": \"Real Estate\", \"growth_rate\": 0.012311010177812205}, {\"sector\": \"Energy\", \"growth_rate\": -0.11651683673618585}]}}, {\"mode\": \"vega-lite\"});\n</script>",
      "text/plain": "alt.Chart(...)"
     },
     "execution_count": 10,
     "metadata": {},
     "output_type": "execute_result"
    }
   ],
   "source": [
    "bar_chart(360)"
   ]
  },
  {
   "cell_type": "markdown",
   "id": "1a3212e5-201c-4957-81f2-e917a295c534",
   "metadata": {},
   "source": [
    "# pie chart volume company"
   ]
  },
  {
   "cell_type": "code",
   "execution_count": 11,
   "id": "7b92067d-c434-47d9-96d8-7c1e25d546ea",
   "metadata": {},
   "outputs": [],
   "source": [
    "def top_five(duration):\n",
    "    dfv = []\n",
    "    for i in range(len(sector_name)):\n",
    "        grow_rate=[]\n",
    "        volumn=[]\n",
    "        symbol=[]\n",
    "        for n in sector_symbol[i]:\n",
    "            dff=df[df['GICS Sector']==sector_name[i]][df['Symbol']==n]\n",
    "            grow_rate.append(dff.iloc[len(dff)-1,1]/dff.iloc[len(dff)-1-duration,1]-1)\n",
    "            volumn.append(dff.iloc[len(dff)-1,2])\n",
    "            symbol.append(n)\n",
    "        dfsv=pd.DataFrame({'symbol': symbol, 'growth_rate': grow_rate,'volumn':volumn})\n",
    "        dfsv['sector'] = sector_name[i]\n",
    "        top_five_sector = dfsv.sort_values(by='growth_rate', ascending=False).head(5)\n",
    "        dfv.append(top_five_sector)    \n",
    "    top_five = pd.concat(dfv, ignore_index=True)\n",
    "    return top_five\n",
    "    "
   ]
  },
  {
   "cell_type": "code",
   "execution_count": 12,
   "id": "6c84548a-8883-442c-ad66-942ee0935807",
   "metadata": {},
   "outputs": [],
   "source": [
    "def pie_chart_volumn(duration,sector):\n",
    "    ddd=top_five(duration)[top_five(duration)['sector']==sector]\n",
    "    pie_chart = alt.Chart(ddd).mark_arc().encode(\n",
    "       theta='volumn:Q',\n",
    "       color='symbol:N'\n",
    "    )\n",
    "    return pie_chart "
   ]
  },
  {
   "cell_type": "code",
   "execution_count": 13,
   "id": "ea718267-ab9b-49f3-b9d0-c84d3acfdc58",
   "metadata": {},
   "outputs": [
    {
     "name": "stderr",
     "output_type": "stream",
     "text": [
      "/var/folders/7s/086nw8893dq343kp9p40cjdw0000gn/T/ipykernel_33800/2773301479.py:8: UserWarning: Boolean Series key will be reindexed to match DataFrame index.\n",
      "  dff=df[df['GICS Sector']==sector_name[i]][df['Symbol']==n]\n",
      "/var/folders/7s/086nw8893dq343kp9p40cjdw0000gn/T/ipykernel_33800/2773301479.py:8: UserWarning: Boolean Series key will be reindexed to match DataFrame index.\n",
      "  dff=df[df['GICS Sector']==sector_name[i]][df['Symbol']==n]\n",
      "/var/folders/7s/086nw8893dq343kp9p40cjdw0000gn/T/ipykernel_33800/2773301479.py:8: UserWarning: Boolean Series key will be reindexed to match DataFrame index.\n",
      "  dff=df[df['GICS Sector']==sector_name[i]][df['Symbol']==n]\n",
      "/var/folders/7s/086nw8893dq343kp9p40cjdw0000gn/T/ipykernel_33800/2773301479.py:8: UserWarning: Boolean Series key will be reindexed to match DataFrame index.\n",
      "  dff=df[df['GICS Sector']==sector_name[i]][df['Symbol']==n]\n",
      "/var/folders/7s/086nw8893dq343kp9p40cjdw0000gn/T/ipykernel_33800/2773301479.py:8: UserWarning: Boolean Series key will be reindexed to match DataFrame index.\n",
      "  dff=df[df['GICS Sector']==sector_name[i]][df['Symbol']==n]\n",
      "/var/folders/7s/086nw8893dq343kp9p40cjdw0000gn/T/ipykernel_33800/2773301479.py:8: UserWarning: Boolean Series key will be reindexed to match DataFrame index.\n",
      "  dff=df[df['GICS Sector']==sector_name[i]][df['Symbol']==n]\n",
      "/var/folders/7s/086nw8893dq343kp9p40cjdw0000gn/T/ipykernel_33800/2773301479.py:8: UserWarning: Boolean Series key will be reindexed to match DataFrame index.\n",
      "  dff=df[df['GICS Sector']==sector_name[i]][df['Symbol']==n]\n",
      "/var/folders/7s/086nw8893dq343kp9p40cjdw0000gn/T/ipykernel_33800/2773301479.py:8: UserWarning: Boolean Series key will be reindexed to match DataFrame index.\n",
      "  dff=df[df['GICS Sector']==sector_name[i]][df['Symbol']==n]\n",
      "/var/folders/7s/086nw8893dq343kp9p40cjdw0000gn/T/ipykernel_33800/2773301479.py:8: UserWarning: Boolean Series key will be reindexed to match DataFrame index.\n",
      "  dff=df[df['GICS Sector']==sector_name[i]][df['Symbol']==n]\n",
      "/var/folders/7s/086nw8893dq343kp9p40cjdw0000gn/T/ipykernel_33800/2773301479.py:8: UserWarning: Boolean Series key will be reindexed to match DataFrame index.\n",
      "  dff=df[df['GICS Sector']==sector_name[i]][df['Symbol']==n]\n",
      "/var/folders/7s/086nw8893dq343kp9p40cjdw0000gn/T/ipykernel_33800/2773301479.py:8: UserWarning: Boolean Series key will be reindexed to match DataFrame index.\n",
      "  dff=df[df['GICS Sector']==sector_name[i]][df['Symbol']==n]\n",
      "/var/folders/7s/086nw8893dq343kp9p40cjdw0000gn/T/ipykernel_33800/2773301479.py:8: UserWarning: Boolean Series key will be reindexed to match DataFrame index.\n",
      "  dff=df[df['GICS Sector']==sector_name[i]][df['Symbol']==n]\n",
      "/var/folders/7s/086nw8893dq343kp9p40cjdw0000gn/T/ipykernel_33800/2773301479.py:8: UserWarning: Boolean Series key will be reindexed to match DataFrame index.\n",
      "  dff=df[df['GICS Sector']==sector_name[i]][df['Symbol']==n]\n",
      "/var/folders/7s/086nw8893dq343kp9p40cjdw0000gn/T/ipykernel_33800/2773301479.py:8: UserWarning: Boolean Series key will be reindexed to match DataFrame index.\n",
      "  dff=df[df['GICS Sector']==sector_name[i]][df['Symbol']==n]\n",
      "/var/folders/7s/086nw8893dq343kp9p40cjdw0000gn/T/ipykernel_33800/2773301479.py:8: UserWarning: Boolean Series key will be reindexed to match DataFrame index.\n",
      "  dff=df[df['GICS Sector']==sector_name[i]][df['Symbol']==n]\n",
      "/var/folders/7s/086nw8893dq343kp9p40cjdw0000gn/T/ipykernel_33800/2773301479.py:8: UserWarning: Boolean Series key will be reindexed to match DataFrame index.\n",
      "  dff=df[df['GICS Sector']==sector_name[i]][df['Symbol']==n]\n",
      "/var/folders/7s/086nw8893dq343kp9p40cjdw0000gn/T/ipykernel_33800/2773301479.py:8: UserWarning: Boolean Series key will be reindexed to match DataFrame index.\n",
      "  dff=df[df['GICS Sector']==sector_name[i]][df['Symbol']==n]\n",
      "/var/folders/7s/086nw8893dq343kp9p40cjdw0000gn/T/ipykernel_33800/2773301479.py:8: UserWarning: Boolean Series key will be reindexed to match DataFrame index.\n",
      "  dff=df[df['GICS Sector']==sector_name[i]][df['Symbol']==n]\n",
      "/var/folders/7s/086nw8893dq343kp9p40cjdw0000gn/T/ipykernel_33800/2773301479.py:8: UserWarning: Boolean Series key will be reindexed to match DataFrame index.\n",
      "  dff=df[df['GICS Sector']==sector_name[i]][df['Symbol']==n]\n",
      "/var/folders/7s/086nw8893dq343kp9p40cjdw0000gn/T/ipykernel_33800/2773301479.py:8: UserWarning: Boolean Series key will be reindexed to match DataFrame index.\n",
      "  dff=df[df['GICS Sector']==sector_name[i]][df['Symbol']==n]\n",
      "/var/folders/7s/086nw8893dq343kp9p40cjdw0000gn/T/ipykernel_33800/2773301479.py:8: UserWarning: Boolean Series key will be reindexed to match DataFrame index.\n",
      "  dff=df[df['GICS Sector']==sector_name[i]][df['Symbol']==n]\n",
      "/var/folders/7s/086nw8893dq343kp9p40cjdw0000gn/T/ipykernel_33800/2773301479.py:8: UserWarning: Boolean Series key will be reindexed to match DataFrame index.\n",
      "  dff=df[df['GICS Sector']==sector_name[i]][df['Symbol']==n]\n"
     ]
    },
    {
     "data": {
      "text/html": "\n<div id=\"altair-viz-169b04e1b9eb47b994669aed95a37866\"></div>\n<script type=\"text/javascript\">\n  var VEGA_DEBUG = (typeof VEGA_DEBUG == \"undefined\") ? {} : VEGA_DEBUG;\n  (function(spec, embedOpt){\n    let outputDiv = document.currentScript.previousElementSibling;\n    if (outputDiv.id !== \"altair-viz-169b04e1b9eb47b994669aed95a37866\") {\n      outputDiv = document.getElementById(\"altair-viz-169b04e1b9eb47b994669aed95a37866\");\n    }\n    const paths = {\n      \"vega\": \"https://cdn.jsdelivr.net/npm//vega@5?noext\",\n      \"vega-lib\": \"https://cdn.jsdelivr.net/npm//vega-lib?noext\",\n      \"vega-lite\": \"https://cdn.jsdelivr.net/npm//vega-lite@4.17.0?noext\",\n      \"vega-embed\": \"https://cdn.jsdelivr.net/npm//vega-embed@6?noext\",\n    };\n\n    function maybeLoadScript(lib, version) {\n      var key = `${lib.replace(\"-\", \"\")}_version`;\n      return (VEGA_DEBUG[key] == version) ?\n        Promise.resolve(paths[lib]) :\n        new Promise(function(resolve, reject) {\n          var s = document.createElement('script');\n          document.getElementsByTagName(\"head\")[0].appendChild(s);\n          s.async = true;\n          s.onload = () => {\n            VEGA_DEBUG[key] = version;\n            return resolve(paths[lib]);\n          };\n          s.onerror = () => reject(`Error loading script: ${paths[lib]}`);\n          s.src = paths[lib];\n        });\n    }\n\n    function showError(err) {\n      outputDiv.innerHTML = `<div class=\"error\" style=\"color:red;\">${err}</div>`;\n      throw err;\n    }\n\n    function displayChart(vegaEmbed) {\n      vegaEmbed(outputDiv, spec, embedOpt)\n        .catch(err => showError(`Javascript Error: ${err.message}<br>This usually means there's a typo in your chart specification. See the javascript console for the full traceback.`));\n    }\n\n    if(typeof define === \"function\" && define.amd) {\n      requirejs.config({paths});\n      require([\"vega-embed\"], displayChart, err => showError(`Error loading script: ${err.message}`));\n    } else {\n      maybeLoadScript(\"vega\", \"5\")\n        .then(() => maybeLoadScript(\"vega-lite\", \"4.17.0\"))\n        .then(() => maybeLoadScript(\"vega-embed\", \"6\"))\n        .catch(showError)\n        .then(() => displayChart(vegaEmbed));\n    }\n  })({\"config\": {\"view\": {\"continuousWidth\": 400, \"continuousHeight\": 300}}, \"data\": {\"name\": \"data-87240553c0ea19a27b0eef80d534a2c8\"}, \"mark\": \"arc\", \"encoding\": {\"color\": {\"field\": \"symbol\", \"type\": \"nominal\"}, \"theta\": {\"field\": \"volumn\", \"type\": \"quantitative\"}}, \"$schema\": \"https://vega.github.io/schema/vega-lite/v4.17.0.json\", \"datasets\": {\"data-87240553c0ea19a27b0eef80d534a2c8\": [{\"symbol\": \"EQT\", \"growth_rate\": 0.05026705577457746, \"volumn\": 2632618, \"sector\": \"Energy\"}, {\"symbol\": \"CTRA\", \"growth_rate\": 0.021942259032353917, \"volumn\": 3931420, \"sector\": \"Energy\"}, {\"symbol\": \"FANG\", \"growth_rate\": 0.0034212798331350047, \"volumn\": 1116836, \"sector\": \"Energy\"}, {\"symbol\": \"MPC\", \"growth_rate\": -0.013674834619563758, \"volumn\": 1634208, \"sector\": \"Energy\"}, {\"symbol\": \"VLO\", \"growth_rate\": -0.01403302878019208, \"volumn\": 2433035, \"sector\": \"Energy\"}]}}, {\"mode\": \"vega-lite\"});\n</script>",
      "text/plain": "alt.Chart(...)"
     },
     "execution_count": 13,
     "metadata": {},
     "output_type": "execute_result"
    }
   ],
   "source": [
    "pie_chart_volumn(7,\"Energy\")"
   ]
  },
  {
   "cell_type": "code",
   "execution_count": 14,
   "id": "3d378062-3418-46e2-a3fc-49fad04f4f45",
   "metadata": {},
   "outputs": [
    {
     "name": "stderr",
     "output_type": "stream",
     "text": [
      "/var/folders/7s/086nw8893dq343kp9p40cjdw0000gn/T/ipykernel_33800/2773301479.py:8: UserWarning: Boolean Series key will be reindexed to match DataFrame index.\n",
      "  dff=df[df['GICS Sector']==sector_name[i]][df['Symbol']==n]\n",
      "/var/folders/7s/086nw8893dq343kp9p40cjdw0000gn/T/ipykernel_33800/2773301479.py:8: UserWarning: Boolean Series key will be reindexed to match DataFrame index.\n",
      "  dff=df[df['GICS Sector']==sector_name[i]][df['Symbol']==n]\n",
      "/var/folders/7s/086nw8893dq343kp9p40cjdw0000gn/T/ipykernel_33800/2773301479.py:8: UserWarning: Boolean Series key will be reindexed to match DataFrame index.\n",
      "  dff=df[df['GICS Sector']==sector_name[i]][df['Symbol']==n]\n",
      "/var/folders/7s/086nw8893dq343kp9p40cjdw0000gn/T/ipykernel_33800/2773301479.py:8: UserWarning: Boolean Series key will be reindexed to match DataFrame index.\n",
      "  dff=df[df['GICS Sector']==sector_name[i]][df['Symbol']==n]\n",
      "/var/folders/7s/086nw8893dq343kp9p40cjdw0000gn/T/ipykernel_33800/2773301479.py:8: UserWarning: Boolean Series key will be reindexed to match DataFrame index.\n",
      "  dff=df[df['GICS Sector']==sector_name[i]][df['Symbol']==n]\n",
      "/var/folders/7s/086nw8893dq343kp9p40cjdw0000gn/T/ipykernel_33800/2773301479.py:8: UserWarning: Boolean Series key will be reindexed to match DataFrame index.\n",
      "  dff=df[df['GICS Sector']==sector_name[i]][df['Symbol']==n]\n",
      "/var/folders/7s/086nw8893dq343kp9p40cjdw0000gn/T/ipykernel_33800/2773301479.py:8: UserWarning: Boolean Series key will be reindexed to match DataFrame index.\n",
      "  dff=df[df['GICS Sector']==sector_name[i]][df['Symbol']==n]\n",
      "/var/folders/7s/086nw8893dq343kp9p40cjdw0000gn/T/ipykernel_33800/2773301479.py:8: UserWarning: Boolean Series key will be reindexed to match DataFrame index.\n",
      "  dff=df[df['GICS Sector']==sector_name[i]][df['Symbol']==n]\n",
      "/var/folders/7s/086nw8893dq343kp9p40cjdw0000gn/T/ipykernel_33800/2773301479.py:8: UserWarning: Boolean Series key will be reindexed to match DataFrame index.\n",
      "  dff=df[df['GICS Sector']==sector_name[i]][df['Symbol']==n]\n",
      "/var/folders/7s/086nw8893dq343kp9p40cjdw0000gn/T/ipykernel_33800/2773301479.py:8: UserWarning: Boolean Series key will be reindexed to match DataFrame index.\n",
      "  dff=df[df['GICS Sector']==sector_name[i]][df['Symbol']==n]\n",
      "/var/folders/7s/086nw8893dq343kp9p40cjdw0000gn/T/ipykernel_33800/2773301479.py:8: UserWarning: Boolean Series key will be reindexed to match DataFrame index.\n",
      "  dff=df[df['GICS Sector']==sector_name[i]][df['Symbol']==n]\n",
      "/var/folders/7s/086nw8893dq343kp9p40cjdw0000gn/T/ipykernel_33800/2773301479.py:8: UserWarning: Boolean Series key will be reindexed to match DataFrame index.\n",
      "  dff=df[df['GICS Sector']==sector_name[i]][df['Symbol']==n]\n",
      "/var/folders/7s/086nw8893dq343kp9p40cjdw0000gn/T/ipykernel_33800/2773301479.py:8: UserWarning: Boolean Series key will be reindexed to match DataFrame index.\n",
      "  dff=df[df['GICS Sector']==sector_name[i]][df['Symbol']==n]\n",
      "/var/folders/7s/086nw8893dq343kp9p40cjdw0000gn/T/ipykernel_33800/2773301479.py:8: UserWarning: Boolean Series key will be reindexed to match DataFrame index.\n",
      "  dff=df[df['GICS Sector']==sector_name[i]][df['Symbol']==n]\n",
      "/var/folders/7s/086nw8893dq343kp9p40cjdw0000gn/T/ipykernel_33800/2773301479.py:8: UserWarning: Boolean Series key will be reindexed to match DataFrame index.\n",
      "  dff=df[df['GICS Sector']==sector_name[i]][df['Symbol']==n]\n",
      "/var/folders/7s/086nw8893dq343kp9p40cjdw0000gn/T/ipykernel_33800/2773301479.py:8: UserWarning: Boolean Series key will be reindexed to match DataFrame index.\n",
      "  dff=df[df['GICS Sector']==sector_name[i]][df['Symbol']==n]\n",
      "/var/folders/7s/086nw8893dq343kp9p40cjdw0000gn/T/ipykernel_33800/2773301479.py:8: UserWarning: Boolean Series key will be reindexed to match DataFrame index.\n",
      "  dff=df[df['GICS Sector']==sector_name[i]][df['Symbol']==n]\n",
      "/var/folders/7s/086nw8893dq343kp9p40cjdw0000gn/T/ipykernel_33800/2773301479.py:8: UserWarning: Boolean Series key will be reindexed to match DataFrame index.\n",
      "  dff=df[df['GICS Sector']==sector_name[i]][df['Symbol']==n]\n",
      "/var/folders/7s/086nw8893dq343kp9p40cjdw0000gn/T/ipykernel_33800/2773301479.py:8: UserWarning: Boolean Series key will be reindexed to match DataFrame index.\n",
      "  dff=df[df['GICS Sector']==sector_name[i]][df['Symbol']==n]\n",
      "/var/folders/7s/086nw8893dq343kp9p40cjdw0000gn/T/ipykernel_33800/2773301479.py:8: UserWarning: Boolean Series key will be reindexed to match DataFrame index.\n",
      "  dff=df[df['GICS Sector']==sector_name[i]][df['Symbol']==n]\n",
      "/var/folders/7s/086nw8893dq343kp9p40cjdw0000gn/T/ipykernel_33800/2773301479.py:8: UserWarning: Boolean Series key will be reindexed to match DataFrame index.\n",
      "  dff=df[df['GICS Sector']==sector_name[i]][df['Symbol']==n]\n",
      "/var/folders/7s/086nw8893dq343kp9p40cjdw0000gn/T/ipykernel_33800/2773301479.py:8: UserWarning: Boolean Series key will be reindexed to match DataFrame index.\n",
      "  dff=df[df['GICS Sector']==sector_name[i]][df['Symbol']==n]\n"
     ]
    },
    {
     "data": {
      "text/html": "\n<div id=\"altair-viz-544872596f804a31b667b72e5f7723c2\"></div>\n<script type=\"text/javascript\">\n  var VEGA_DEBUG = (typeof VEGA_DEBUG == \"undefined\") ? {} : VEGA_DEBUG;\n  (function(spec, embedOpt){\n    let outputDiv = document.currentScript.previousElementSibling;\n    if (outputDiv.id !== \"altair-viz-544872596f804a31b667b72e5f7723c2\") {\n      outputDiv = document.getElementById(\"altair-viz-544872596f804a31b667b72e5f7723c2\");\n    }\n    const paths = {\n      \"vega\": \"https://cdn.jsdelivr.net/npm//vega@5?noext\",\n      \"vega-lib\": \"https://cdn.jsdelivr.net/npm//vega-lib?noext\",\n      \"vega-lite\": \"https://cdn.jsdelivr.net/npm//vega-lite@4.17.0?noext\",\n      \"vega-embed\": \"https://cdn.jsdelivr.net/npm//vega-embed@6?noext\",\n    };\n\n    function maybeLoadScript(lib, version) {\n      var key = `${lib.replace(\"-\", \"\")}_version`;\n      return (VEGA_DEBUG[key] == version) ?\n        Promise.resolve(paths[lib]) :\n        new Promise(function(resolve, reject) {\n          var s = document.createElement('script');\n          document.getElementsByTagName(\"head\")[0].appendChild(s);\n          s.async = true;\n          s.onload = () => {\n            VEGA_DEBUG[key] = version;\n            return resolve(paths[lib]);\n          };\n          s.onerror = () => reject(`Error loading script: ${paths[lib]}`);\n          s.src = paths[lib];\n        });\n    }\n\n    function showError(err) {\n      outputDiv.innerHTML = `<div class=\"error\" style=\"color:red;\">${err}</div>`;\n      throw err;\n    }\n\n    function displayChart(vegaEmbed) {\n      vegaEmbed(outputDiv, spec, embedOpt)\n        .catch(err => showError(`Javascript Error: ${err.message}<br>This usually means there's a typo in your chart specification. See the javascript console for the full traceback.`));\n    }\n\n    if(typeof define === \"function\" && define.amd) {\n      requirejs.config({paths});\n      require([\"vega-embed\"], displayChart, err => showError(`Error loading script: ${err.message}`));\n    } else {\n      maybeLoadScript(\"vega\", \"5\")\n        .then(() => maybeLoadScript(\"vega-lite\", \"4.17.0\"))\n        .then(() => maybeLoadScript(\"vega-embed\", \"6\"))\n        .catch(showError)\n        .then(() => displayChart(vegaEmbed));\n    }\n  })({\"config\": {\"view\": {\"continuousWidth\": 400, \"continuousHeight\": 300}}, \"data\": {\"name\": \"data-01da12118814071df5bab9c68327212e\"}, \"mark\": \"arc\", \"encoding\": {\"color\": {\"field\": \"symbol\", \"type\": \"nominal\"}, \"theta\": {\"field\": \"volumn\", \"type\": \"quantitative\"}}, \"$schema\": \"https://vega.github.io/schema/vega-lite/v4.17.0.json\", \"datasets\": {\"data-01da12118814071df5bab9c68327212e\": [{\"symbol\": \"MPC\", \"growth_rate\": 0.023374054514786247, \"volumn\": 1634208, \"sector\": \"Energy\"}, {\"symbol\": \"CTRA\", \"growth_rate\": 0.0019920014462415647, \"volumn\": 3931420, \"sector\": \"Energy\"}, {\"symbol\": \"PSX\", \"growth_rate\": -0.004464710180750675, \"volumn\": 1297080, \"sector\": \"Energy\"}, {\"symbol\": \"TRGP\", \"growth_rate\": -0.009283880152130553, \"volumn\": 706183, \"sector\": \"Energy\"}, {\"symbol\": \"FANG\", \"growth_rate\": -0.02062111169582359, \"volumn\": 1116836, \"sector\": \"Energy\"}]}}, {\"mode\": \"vega-lite\"});\n</script>",
      "text/plain": "alt.Chart(...)"
     },
     "execution_count": 14,
     "metadata": {},
     "output_type": "execute_result"
    }
   ],
   "source": [
    "pie_chart_volumn(30,\"Energy\")"
   ]
  },
  {
   "cell_type": "code",
   "execution_count": 15,
   "id": "10bf1cba-f130-4747-8415-d8dc8c85d001",
   "metadata": {},
   "outputs": [
    {
     "name": "stderr",
     "output_type": "stream",
     "text": [
      "/var/folders/7s/086nw8893dq343kp9p40cjdw0000gn/T/ipykernel_33800/2773301479.py:8: UserWarning: Boolean Series key will be reindexed to match DataFrame index.\n",
      "  dff=df[df['GICS Sector']==sector_name[i]][df['Symbol']==n]\n",
      "/var/folders/7s/086nw8893dq343kp9p40cjdw0000gn/T/ipykernel_33800/2773301479.py:8: UserWarning: Boolean Series key will be reindexed to match DataFrame index.\n",
      "  dff=df[df['GICS Sector']==sector_name[i]][df['Symbol']==n]\n",
      "/var/folders/7s/086nw8893dq343kp9p40cjdw0000gn/T/ipykernel_33800/2773301479.py:8: UserWarning: Boolean Series key will be reindexed to match DataFrame index.\n",
      "  dff=df[df['GICS Sector']==sector_name[i]][df['Symbol']==n]\n",
      "/var/folders/7s/086nw8893dq343kp9p40cjdw0000gn/T/ipykernel_33800/2773301479.py:8: UserWarning: Boolean Series key will be reindexed to match DataFrame index.\n",
      "  dff=df[df['GICS Sector']==sector_name[i]][df['Symbol']==n]\n",
      "/var/folders/7s/086nw8893dq343kp9p40cjdw0000gn/T/ipykernel_33800/2773301479.py:8: UserWarning: Boolean Series key will be reindexed to match DataFrame index.\n",
      "  dff=df[df['GICS Sector']==sector_name[i]][df['Symbol']==n]\n",
      "/var/folders/7s/086nw8893dq343kp9p40cjdw0000gn/T/ipykernel_33800/2773301479.py:8: UserWarning: Boolean Series key will be reindexed to match DataFrame index.\n",
      "  dff=df[df['GICS Sector']==sector_name[i]][df['Symbol']==n]\n",
      "/var/folders/7s/086nw8893dq343kp9p40cjdw0000gn/T/ipykernel_33800/2773301479.py:8: UserWarning: Boolean Series key will be reindexed to match DataFrame index.\n",
      "  dff=df[df['GICS Sector']==sector_name[i]][df['Symbol']==n]\n",
      "/var/folders/7s/086nw8893dq343kp9p40cjdw0000gn/T/ipykernel_33800/2773301479.py:8: UserWarning: Boolean Series key will be reindexed to match DataFrame index.\n",
      "  dff=df[df['GICS Sector']==sector_name[i]][df['Symbol']==n]\n",
      "/var/folders/7s/086nw8893dq343kp9p40cjdw0000gn/T/ipykernel_33800/2773301479.py:8: UserWarning: Boolean Series key will be reindexed to match DataFrame index.\n",
      "  dff=df[df['GICS Sector']==sector_name[i]][df['Symbol']==n]\n",
      "/var/folders/7s/086nw8893dq343kp9p40cjdw0000gn/T/ipykernel_33800/2773301479.py:8: UserWarning: Boolean Series key will be reindexed to match DataFrame index.\n",
      "  dff=df[df['GICS Sector']==sector_name[i]][df['Symbol']==n]\n",
      "/var/folders/7s/086nw8893dq343kp9p40cjdw0000gn/T/ipykernel_33800/2773301479.py:8: UserWarning: Boolean Series key will be reindexed to match DataFrame index.\n",
      "  dff=df[df['GICS Sector']==sector_name[i]][df['Symbol']==n]\n",
      "/var/folders/7s/086nw8893dq343kp9p40cjdw0000gn/T/ipykernel_33800/2773301479.py:8: UserWarning: Boolean Series key will be reindexed to match DataFrame index.\n",
      "  dff=df[df['GICS Sector']==sector_name[i]][df['Symbol']==n]\n",
      "/var/folders/7s/086nw8893dq343kp9p40cjdw0000gn/T/ipykernel_33800/2773301479.py:8: UserWarning: Boolean Series key will be reindexed to match DataFrame index.\n",
      "  dff=df[df['GICS Sector']==sector_name[i]][df['Symbol']==n]\n",
      "/var/folders/7s/086nw8893dq343kp9p40cjdw0000gn/T/ipykernel_33800/2773301479.py:8: UserWarning: Boolean Series key will be reindexed to match DataFrame index.\n",
      "  dff=df[df['GICS Sector']==sector_name[i]][df['Symbol']==n]\n",
      "/var/folders/7s/086nw8893dq343kp9p40cjdw0000gn/T/ipykernel_33800/2773301479.py:8: UserWarning: Boolean Series key will be reindexed to match DataFrame index.\n",
      "  dff=df[df['GICS Sector']==sector_name[i]][df['Symbol']==n]\n",
      "/var/folders/7s/086nw8893dq343kp9p40cjdw0000gn/T/ipykernel_33800/2773301479.py:8: UserWarning: Boolean Series key will be reindexed to match DataFrame index.\n",
      "  dff=df[df['GICS Sector']==sector_name[i]][df['Symbol']==n]\n",
      "/var/folders/7s/086nw8893dq343kp9p40cjdw0000gn/T/ipykernel_33800/2773301479.py:8: UserWarning: Boolean Series key will be reindexed to match DataFrame index.\n",
      "  dff=df[df['GICS Sector']==sector_name[i]][df['Symbol']==n]\n",
      "/var/folders/7s/086nw8893dq343kp9p40cjdw0000gn/T/ipykernel_33800/2773301479.py:8: UserWarning: Boolean Series key will be reindexed to match DataFrame index.\n",
      "  dff=df[df['GICS Sector']==sector_name[i]][df['Symbol']==n]\n",
      "/var/folders/7s/086nw8893dq343kp9p40cjdw0000gn/T/ipykernel_33800/2773301479.py:8: UserWarning: Boolean Series key will be reindexed to match DataFrame index.\n",
      "  dff=df[df['GICS Sector']==sector_name[i]][df['Symbol']==n]\n",
      "/var/folders/7s/086nw8893dq343kp9p40cjdw0000gn/T/ipykernel_33800/2773301479.py:8: UserWarning: Boolean Series key will be reindexed to match DataFrame index.\n",
      "  dff=df[df['GICS Sector']==sector_name[i]][df['Symbol']==n]\n",
      "/var/folders/7s/086nw8893dq343kp9p40cjdw0000gn/T/ipykernel_33800/2773301479.py:8: UserWarning: Boolean Series key will be reindexed to match DataFrame index.\n",
      "  dff=df[df['GICS Sector']==sector_name[i]][df['Symbol']==n]\n",
      "/var/folders/7s/086nw8893dq343kp9p40cjdw0000gn/T/ipykernel_33800/2773301479.py:8: UserWarning: Boolean Series key will be reindexed to match DataFrame index.\n",
      "  dff=df[df['GICS Sector']==sector_name[i]][df['Symbol']==n]\n"
     ]
    },
    {
     "data": {
      "text/html": "\n<div id=\"altair-viz-59661efd4db648c7b61ddc31611e0d64\"></div>\n<script type=\"text/javascript\">\n  var VEGA_DEBUG = (typeof VEGA_DEBUG == \"undefined\") ? {} : VEGA_DEBUG;\n  (function(spec, embedOpt){\n    let outputDiv = document.currentScript.previousElementSibling;\n    if (outputDiv.id !== \"altair-viz-59661efd4db648c7b61ddc31611e0d64\") {\n      outputDiv = document.getElementById(\"altair-viz-59661efd4db648c7b61ddc31611e0d64\");\n    }\n    const paths = {\n      \"vega\": \"https://cdn.jsdelivr.net/npm//vega@5?noext\",\n      \"vega-lib\": \"https://cdn.jsdelivr.net/npm//vega-lib?noext\",\n      \"vega-lite\": \"https://cdn.jsdelivr.net/npm//vega-lite@4.17.0?noext\",\n      \"vega-embed\": \"https://cdn.jsdelivr.net/npm//vega-embed@6?noext\",\n    };\n\n    function maybeLoadScript(lib, version) {\n      var key = `${lib.replace(\"-\", \"\")}_version`;\n      return (VEGA_DEBUG[key] == version) ?\n        Promise.resolve(paths[lib]) :\n        new Promise(function(resolve, reject) {\n          var s = document.createElement('script');\n          document.getElementsByTagName(\"head\")[0].appendChild(s);\n          s.async = true;\n          s.onload = () => {\n            VEGA_DEBUG[key] = version;\n            return resolve(paths[lib]);\n          };\n          s.onerror = () => reject(`Error loading script: ${paths[lib]}`);\n          s.src = paths[lib];\n        });\n    }\n\n    function showError(err) {\n      outputDiv.innerHTML = `<div class=\"error\" style=\"color:red;\">${err}</div>`;\n      throw err;\n    }\n\n    function displayChart(vegaEmbed) {\n      vegaEmbed(outputDiv, spec, embedOpt)\n        .catch(err => showError(`Javascript Error: ${err.message}<br>This usually means there's a typo in your chart specification. See the javascript console for the full traceback.`));\n    }\n\n    if(typeof define === \"function\" && define.amd) {\n      requirejs.config({paths});\n      require([\"vega-embed\"], displayChart, err => showError(`Error loading script: ${err.message}`));\n    } else {\n      maybeLoadScript(\"vega\", \"5\")\n        .then(() => maybeLoadScript(\"vega-lite\", \"4.17.0\"))\n        .then(() => maybeLoadScript(\"vega-embed\", \"6\"))\n        .catch(showError)\n        .then(() => displayChart(vegaEmbed));\n    }\n  })({\"config\": {\"view\": {\"continuousWidth\": 400, \"continuousHeight\": 300}}, \"data\": {\"name\": \"data-3409b070e5d55ef7ba5e901f702b6d4e\"}, \"mark\": \"arc\", \"encoding\": {\"color\": {\"field\": \"symbol\", \"type\": \"nominal\"}, \"theta\": {\"field\": \"volumn\", \"type\": \"quantitative\"}}, \"$schema\": \"https://vega.github.io/schema/vega-lite/v4.17.0.json\", \"datasets\": {\"data-3409b070e5d55ef7ba5e901f702b6d4e\": [{\"symbol\": \"NFLX\", \"growth_rate\": 0.34704812498903226, \"volumn\": 1848440, \"sector\": \"Communication Services\"}, {\"symbol\": \"META\", \"growth_rate\": 0.32763549327538977, \"volumn\": 26239542, \"sector\": \"Communication Services\"}, {\"symbol\": \"OMC\", \"growth_rate\": 0.3128609040656478, \"volumn\": 488985, \"sector\": \"Communication Services\"}, {\"symbol\": \"IPG\", \"growth_rate\": 0.21552909917549168, \"volumn\": 1612963, \"sector\": \"Communication Services\"}, {\"symbol\": \"CMCSA\", \"growth_rate\": 0.21154475018260932, \"volumn\": 9395513, \"sector\": \"Communication Services\"}]}}, {\"mode\": \"vega-lite\"});\n</script>",
      "text/plain": "alt.Chart(...)"
     },
     "execution_count": 15,
     "metadata": {},
     "output_type": "execute_result"
    }
   ],
   "source": [
    "pie_chart_volumn(90,\"Communication Services\")"
   ]
  }
 ],
 "metadata": {
  "kernelspec": {
   "display_name": "Python 3 (ipykernel)",
   "language": "python",
   "name": "python3"
  },
  "language_info": {
   "codemirror_mode": {
    "name": "ipython",
    "version": 3
   },
   "file_extension": ".py",
   "mimetype": "text/x-python",
   "name": "python",
   "nbconvert_exporter": "python",
   "pygments_lexer": "ipython3",
   "version": "3.9.13"
  }
 },
 "nbformat": 4,
 "nbformat_minor": 5
}
